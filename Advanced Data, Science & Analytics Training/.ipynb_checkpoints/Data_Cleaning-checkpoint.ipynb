{
 "cells": [
  {
   "cell_type": "markdown",
   "id": "4fed0065-2bc1-41d5-8933-b7ad396cb287",
   "metadata": {},
   "source": [
    "# Data Cleaning"
   ]
  },
  {
   "cell_type": "markdown",
   "id": "3cbb5f2f-f703-4fe5-a9df-df8b22e9beec",
   "metadata": {},
   "source": [
    "Data cleaning, also known as data cleansing or data scrubbing, is the process of identifying and correcting (or removing) errors, inconsistencies, and inaccuracies in datasets. It ensures that the data is accurate, complete, and reliable for analysis and decision-making."
   ]
  },
  {
   "cell_type": "code",
   "execution_count": 5,
   "id": "5c8bc9b9-39a4-4e33-99e0-2c85785f086d",
   "metadata": {},
   "outputs": [
    {
     "name": "stdout",
     "output_type": "stream",
     "text": [
      "     ID     Name   Age    Salary  Join_Date        Country  Experience_Years  \\\n",
      "0  1002    David  35.0  1.000000 2020-12-05  United States                 5   \n",
      "1  1003      Eve  25.0  0.333333 2020-12-05         Mexico                 3   \n",
      "2  1005  Charlie  30.0  0.333333 2021-01-10  United States                 5   \n",
      "3  1006      Eve  40.0  0.511167 2021-01-10         Canada                 5   \n",
      "4  1007      Eve  30.0  0.511167 2021-03-15         Canada                 3   \n",
      "\n",
      "        DP  Department_Finance  Department_HR  Department_IT  Department_nan  \n",
      "0  Finance                   0              0            0.0               1  \n",
      "1      NaN                   0              1            0.0               0  \n",
      "2      NaN                   0              0            0.0               1  \n",
      "3      NaN                   0              0            1.0               0  \n",
      "4      NaN                   0              0            1.0               0  \n"
     ]
    }
   ],
   "source": [
    "import pandas as pd\n",
    "\n",
    "# Load an Excel file\n",
    "df = pd.read_excel(\"raw_large_dataset.xlsx\", sheet_name=\"Sheet1\")\n",
    "\n",
    "# Display first few rows\n",
    "print(df.head())"
   ]
  },
  {
   "cell_type": "code",
   "execution_count": 16,
   "id": "7b560448-9d49-4226-9269-1edaa487aacc",
   "metadata": {},
   "outputs": [
    {
     "data": {
      "text/plain": [
       "ID                     0\n",
       "Name                   0\n",
       "Age                   11\n",
       "Salary                 9\n",
       "Join_Date              0\n",
       "Country                0\n",
       "Experience_Years       0\n",
       "Department_Finance     0\n",
       "Department_HR          0\n",
       "Department_IT          7\n",
       "Department_nan         0\n",
       "dtype: int64"
      ]
     },
     "execution_count": 16,
     "metadata": {},
     "output_type": "execute_result"
    }
   ],
   "source": [
    "# Check missing values\n",
    "missing_values = df.isnull().sum()\n",
    "missing_values"
   ]
  },
  {
   "cell_type": "code",
   "execution_count": 17,
   "id": "20b430e5-67fb-48bf-b92e-a2905c5ad81b",
   "metadata": {},
   "outputs": [
    {
     "name": "stderr",
     "output_type": "stream",
     "text": [
      "C:\\Users\\Fanuel\\AppData\\Local\\Temp\\ipykernel_15848\\2560028756.py:2: FutureWarning: A value is trying to be set on a copy of a DataFrame or Series through chained assignment using an inplace method.\n",
      "The behavior will change in pandas 3.0. This inplace method will never work because the intermediate object on which we are setting values always behaves as a copy.\n",
      "\n",
      "For example, when doing 'df[col].method(value, inplace=True)', try using 'df.method({col: value}, inplace=True)' or df[col] = df[col].method(value) instead, to perform the operation inplace on the original object.\n",
      "\n",
      "\n",
      "  df['Age'].fillna(df['Age'].median(), inplace=True)\n",
      "C:\\Users\\Fanuel\\AppData\\Local\\Temp\\ipykernel_15848\\2560028756.py:3: FutureWarning: A value is trying to be set on a copy of a DataFrame or Series through chained assignment using an inplace method.\n",
      "The behavior will change in pandas 3.0. This inplace method will never work because the intermediate object on which we are setting values always behaves as a copy.\n",
      "\n",
      "For example, when doing 'df[col].method(value, inplace=True)', try using 'df.method({col: value}, inplace=True)' or df[col] = df[col].method(value) instead, to perform the operation inplace on the original object.\n",
      "\n",
      "\n",
      "  df['Salary'].fillna(df['Salary'].mean(), inplace=True)\n",
      "C:\\Users\\Fanuel\\AppData\\Local\\Temp\\ipykernel_15848\\2560028756.py:4: FutureWarning: A value is trying to be set on a copy of a DataFrame or Series through chained assignment using an inplace method.\n",
      "The behavior will change in pandas 3.0. This inplace method will never work because the intermediate object on which we are setting values always behaves as a copy.\n",
      "\n",
      "For example, when doing 'df[col].method(value, inplace=True)', try using 'df.method({col: value}, inplace=True)' or df[col] = df[col].method(value) instead, to perform the operation inplace on the original object.\n",
      "\n",
      "\n",
      "  df['Department_IT'].fillna('Unknown', inplace=True)\n",
      "C:\\Users\\Fanuel\\AppData\\Local\\Temp\\ipykernel_15848\\2560028756.py:4: FutureWarning: Setting an item of incompatible dtype is deprecated and will raise an error in a future version of pandas. Value 'Unknown' has dtype incompatible with float64, please explicitly cast to a compatible dtype first.\n",
      "  df['Department_IT'].fillna('Unknown', inplace=True)\n"
     ]
    }
   ],
   "source": [
    "# Step 1: Handling Missing Data\n",
    "df['Age'].fillna(df['Age'].median(), inplace=True)\n",
    "df['Salary'].fillna(df['Salary'].mean(), inplace=True)\n",
    "df['Department_IT'].fillna('Unknown', inplace=True)"
   ]
  },
  {
   "cell_type": "code",
   "execution_count": 18,
   "id": "88d87cce-83e9-41b6-8fc3-de27e14cacc0",
   "metadata": {},
   "outputs": [],
   "source": [
    "# Step 2: Removing Duplicates\n",
    "df.drop_duplicates(subset=['ID'], keep='first', inplace=True)"
   ]
  },
  {
   "cell_type": "code",
   "execution_count": 8,
   "id": "86a52ad2-b268-4e60-b73e-4fdbfe3ed730",
   "metadata": {},
   "outputs": [],
   "source": [
    "# Step 3: Standardizing Data Formats\n",
    "df['Name'] = df['Name'].str.strip()\n",
    "df['Country'] = df['Country'].str.lower().replace({'usa': 'united states', 'canada': 'canada', 'mexico': 'mexico'})\n",
    "df['Join_Date'] = pd.to_datetime(df['Join_Date'], errors='coerce')"
   ]
  },
  {
   "cell_type": "code",
   "execution_count": 9,
   "id": "f0c53e22-2d67-4ed8-b904-aacdf9555cd7",
   "metadata": {},
   "outputs": [],
   "source": [
    "# Step 4: Correcting Inconsistent Data\n",
    "df['Country'] = df['Country'].str.title()"
   ]
  },
  {
   "cell_type": "code",
   "execution_count": null,
   "id": "cbf2b265-b5f6-409d-949d-aae822b8fb49",
   "metadata": {},
   "outputs": [],
   "source": []
  },
  {
   "cell_type": "code",
   "execution_count": null,
   "id": "b2b9565e-7c94-43ae-a66d-414e1d4b5bb8",
   "metadata": {},
   "outputs": [],
   "source": [
    "# Step 5: Handling Outliers\n",
    "df.loc[df['Experience_Years'] < 0, 'Experience_Years'] = df['Experience_Years'].median()"
   ]
  },
  {
   "cell_type": "code",
   "execution_count": null,
   "id": "4306dec8-afb2-405c-a39f-564ddf799355",
   "metadata": {},
   "outputs": [],
   "source": []
  },
  {
   "cell_type": "code",
   "execution_count": 20,
   "id": "96e19b21-6d28-4b5b-8af5-20a928607be2",
   "metadata": {},
   "outputs": [
    {
     "data": {
      "text/html": [
       "<div>\n",
       "<style scoped>\n",
       "    .dataframe tbody tr th:only-of-type {\n",
       "        vertical-align: middle;\n",
       "    }\n",
       "\n",
       "    .dataframe tbody tr th {\n",
       "        vertical-align: top;\n",
       "    }\n",
       "\n",
       "    .dataframe thead th {\n",
       "        text-align: right;\n",
       "    }\n",
       "</style>\n",
       "<table border=\"1\" class=\"dataframe\">\n",
       "  <thead>\n",
       "    <tr style=\"text-align: right;\">\n",
       "      <th></th>\n",
       "      <th>ID</th>\n",
       "      <th>Name</th>\n",
       "      <th>Age</th>\n",
       "      <th>Salary</th>\n",
       "      <th>Join_Date</th>\n",
       "      <th>Country</th>\n",
       "      <th>Experience_Years</th>\n",
       "      <th>Department_Finance</th>\n",
       "      <th>Department_HR</th>\n",
       "      <th>Department_IT</th>\n",
       "      <th>Department_nan</th>\n",
       "    </tr>\n",
       "  </thead>\n",
       "  <tbody>\n",
       "    <tr>\n",
       "      <th>0</th>\n",
       "      <td>1002</td>\n",
       "      <td>David</td>\n",
       "      <td>35.0</td>\n",
       "      <td>1.000000</td>\n",
       "      <td>2020-12-05</td>\n",
       "      <td>United States</td>\n",
       "      <td>5</td>\n",
       "      <td>0</td>\n",
       "      <td>0</td>\n",
       "      <td>0.0</td>\n",
       "      <td>1</td>\n",
       "    </tr>\n",
       "    <tr>\n",
       "      <th>1</th>\n",
       "      <td>1003</td>\n",
       "      <td>Eve</td>\n",
       "      <td>25.0</td>\n",
       "      <td>0.333333</td>\n",
       "      <td>2020-12-05</td>\n",
       "      <td>Mexico</td>\n",
       "      <td>3</td>\n",
       "      <td>0</td>\n",
       "      <td>1</td>\n",
       "      <td>0.0</td>\n",
       "      <td>0</td>\n",
       "    </tr>\n",
       "    <tr>\n",
       "      <th>2</th>\n",
       "      <td>1005</td>\n",
       "      <td>Charlie</td>\n",
       "      <td>30.0</td>\n",
       "      <td>0.333333</td>\n",
       "      <td>2021-01-10</td>\n",
       "      <td>United States</td>\n",
       "      <td>5</td>\n",
       "      <td>0</td>\n",
       "      <td>0</td>\n",
       "      <td>0.0</td>\n",
       "      <td>1</td>\n",
       "    </tr>\n",
       "    <tr>\n",
       "      <th>3</th>\n",
       "      <td>1006</td>\n",
       "      <td>Eve</td>\n",
       "      <td>40.0</td>\n",
       "      <td>0.511167</td>\n",
       "      <td>2021-01-10</td>\n",
       "      <td>Canada</td>\n",
       "      <td>5</td>\n",
       "      <td>0</td>\n",
       "      <td>0</td>\n",
       "      <td>1.0</td>\n",
       "      <td>0</td>\n",
       "    </tr>\n",
       "    <tr>\n",
       "      <th>4</th>\n",
       "      <td>1007</td>\n",
       "      <td>Eve</td>\n",
       "      <td>30.0</td>\n",
       "      <td>0.511167</td>\n",
       "      <td>2021-03-15</td>\n",
       "      <td>Canada</td>\n",
       "      <td>3</td>\n",
       "      <td>0</td>\n",
       "      <td>0</td>\n",
       "      <td>1.0</td>\n",
       "      <td>0</td>\n",
       "    </tr>\n",
       "  </tbody>\n",
       "</table>\n",
       "</div>"
      ],
      "text/plain": [
       "     ID     Name   Age    Salary  Join_Date        Country  Experience_Years  \\\n",
       "0  1002    David  35.0  1.000000 2020-12-05  United States                 5   \n",
       "1  1003      Eve  25.0  0.333333 2020-12-05         Mexico                 3   \n",
       "2  1005  Charlie  30.0  0.333333 2021-01-10  United States                 5   \n",
       "3  1006      Eve  40.0  0.511167 2021-01-10         Canada                 5   \n",
       "4  1007      Eve  30.0  0.511167 2021-03-15         Canada                 3   \n",
       "\n",
       "   Department_Finance  Department_HR Department_IT  Department_nan  \n",
       "0                   0              0           0.0               1  \n",
       "1                   0              1           0.0               0  \n",
       "2                   0              0           0.0               1  \n",
       "3                   0              0           1.0               0  \n",
       "4                   0              0           1.0               0  "
      ]
     },
     "execution_count": 20,
     "metadata": {},
     "output_type": "execute_result"
    }
   ],
   "source": [
    "# Step 6: Normalizing & Scaling Data (Min-Max Scaling for Salary)\n",
    "df['Salary'] = (df['Salary'] - df['Salary'].min()) / (df['Salary'].max() - df['Salary'].min())\n",
    "\n",
    "df.head()"
   ]
  },
  {
   "cell_type": "code",
   "execution_count": 11,
   "id": "ca08a1ee-2215-4492-ba53-c6ee1a2d7605",
   "metadata": {},
   "outputs": [],
   "source": [
    "# Step 7: Encoding Categorical Data (One-Hot Encoding for Department)\n",
    "df = pd.get_dummies(df, columns=['Department_IT'])"
   ]
  },
  {
   "cell_type": "code",
   "execution_count": null,
   "id": "3958f350-efaa-4526-aaef-b7504e540731",
   "metadata": {},
   "outputs": [],
   "source": [
    "# Step 10: Data Validation & Quality Checks\n",
    "df.dropna(subset=['Join_Date'], inplace=True)  # Removing rows with invalid dates"
   ]
  },
  {
   "cell_type": "code",
   "execution_count": null,
   "id": "d62791bc-2f58-4208-a797-0c2c0bbe3cce",
   "metadata": {},
   "outputs": [],
   "source": [
    "# Display cleaned dataset\n",
    "print(df.head())\n",
    "print(df.shape)"
   ]
  },
  {
   "cell_type": "code",
   "execution_count": null,
   "id": "586ff50b-5515-47c2-8287-3c09261fcd89",
   "metadata": {},
   "outputs": [],
   "source": []
  },
  {
   "cell_type": "markdown",
   "id": "365a98a4-9156-492b-a59c-21367e3f8dca",
   "metadata": {},
   "source": [
    "# Exercises"
   ]
  },
  {
   "cell_type": "code",
   "execution_count": 81,
   "id": "18b7345e-04c0-4f5d-ab2f-7fac2ecfc7d7",
   "metadata": {},
   "outputs": [],
   "source": [
    "# Data Cleaning Exercises\n",
    "\n",
    "import pandas as pd\n",
    "import numpy as np\n",
    "\n",
    "# Creating a sample dataset with data quality issues for exercises\n",
    "data = {\n",
    "    'ID': [101, 102, 103, 104, 105, 106, 107, 107],  # Duplicate ID\n",
    "    'Name': ['Alice', 'Bob', 'Charlie', 'David', 'Eve', 'Frank', 'Grace', 'Grace '],  # Extra space in last entry\n",
    "    'Age': [25, np.nan, 30, 45, 29, 35, 27, 27],  # Missing age value\n",
    "    'Salary': [50000, 60000, np.nan, 80000, 45000, 70000, 55000, 55000],  # Missing salary value\n",
    "    'Join_Date': ['2021-01-10', '2020-12-05', '2021-03-15', '2020-11-25', '2021-07-19', '2021-02-22', 'Invalid Date', '2021-08-30'],  # Invalid date format\n",
    "    'Country': ['USA', 'usa', 'United States', 'Canada', 'canada', 'Mexico', 'MEXICO', 'UK'],  # Inconsistent country names\n",
    "    'Department': ['HR', 'IT', 'HR', 'Finance', 'IT', np.nan, 'Finance', 'HR'],  # Missing department\n",
    "    'Experience_Years': [3, -1, 5, 10, 4, 7, 3, 3],  # Negative value error\n",
    "}"
   ]
  },
  {
   "cell_type": "markdown",
   "id": "12a4547e-6039-423c-b844-7ffa9714f3cc",
   "metadata": {},
   "source": [
    "## Exercise 1"
   ]
  },
  {
   "cell_type": "markdown",
   "id": "37b4ce42-c8db-4ace-af36-f3483f9bb028",
   "metadata": {},
   "source": [
    "Identify and remove duplicate rows based on the 'ID' column"
   ]
  },
  {
   "cell_type": "code",
   "execution_count": 82,
   "id": "dd4696c2-4d9d-4afc-ba81-143fffd07a44",
   "metadata": {},
   "outputs": [
    {
     "name": "stdout",
     "output_type": "stream",
     "text": [
      "    ID     Name   Age   Salary     Join_Date        Country Department  \\\n",
      "0  101    Alice  25.0  50000.0    2021-01-10            USA         HR   \n",
      "1  102      Bob   NaN  60000.0    2020-12-05            usa         IT   \n",
      "2  103  Charlie  30.0      NaN    2021-03-15  United States         HR   \n",
      "3  104    David  45.0  80000.0    2020-11-25         Canada    Finance   \n",
      "4  105      Eve  29.0  45000.0    2021-07-19         canada         IT   \n",
      "5  106    Frank  35.0  70000.0    2021-02-22         Mexico        NaN   \n",
      "6  107    Grace  27.0  55000.0  Invalid Date         MEXICO    Finance   \n",
      "\n",
      "   Experience_Years  \n",
      "0                 3  \n",
      "1                -1  \n",
      "2                 5  \n",
      "3                10  \n",
      "4                 4  \n",
      "5                 7  \n",
      "6                 3  \n"
     ]
    }
   ],
   "source": [
    "df = pd.DataFrame(data)\n",
    "\n",
    "df_cleaned = df.drop_duplicates(subset=['ID'], keep='first')\n",
    "\n",
    "print(df_cleaned)\n"
   ]
  },
  {
   "cell_type": "code",
   "execution_count": 28,
   "id": "7ed54fcb",
   "metadata": {},
   "outputs": [
    {
     "data": {
      "text/html": [
       "<div>\n",
       "<style scoped>\n",
       "    .dataframe tbody tr th:only-of-type {\n",
       "        vertical-align: middle;\n",
       "    }\n",
       "\n",
       "    .dataframe tbody tr th {\n",
       "        vertical-align: top;\n",
       "    }\n",
       "\n",
       "    .dataframe thead th {\n",
       "        text-align: right;\n",
       "    }\n",
       "</style>\n",
       "<table border=\"1\" class=\"dataframe\">\n",
       "  <thead>\n",
       "    <tr style=\"text-align: right;\">\n",
       "      <th></th>\n",
       "      <th>ID</th>\n",
       "      <th>Name</th>\n",
       "      <th>Age</th>\n",
       "      <th>Salary</th>\n",
       "      <th>Join_Date</th>\n",
       "      <th>Country</th>\n",
       "      <th>Department</th>\n",
       "      <th>Experience_Years</th>\n",
       "    </tr>\n",
       "  </thead>\n",
       "  <tbody>\n",
       "    <tr>\n",
       "      <th>0</th>\n",
       "      <td>101</td>\n",
       "      <td>Alice</td>\n",
       "      <td>25.0</td>\n",
       "      <td>50000.000000</td>\n",
       "      <td>2021-01-10</td>\n",
       "      <td>USA</td>\n",
       "      <td>HR</td>\n",
       "      <td>3</td>\n",
       "    </tr>\n",
       "    <tr>\n",
       "      <th>1</th>\n",
       "      <td>102</td>\n",
       "      <td>Bob</td>\n",
       "      <td>29.0</td>\n",
       "      <td>60000.000000</td>\n",
       "      <td>2020-12-05</td>\n",
       "      <td>usa</td>\n",
       "      <td>IT</td>\n",
       "      <td>-1</td>\n",
       "    </tr>\n",
       "    <tr>\n",
       "      <th>2</th>\n",
       "      <td>103</td>\n",
       "      <td>Charlie</td>\n",
       "      <td>30.0</td>\n",
       "      <td>59285.714286</td>\n",
       "      <td>2021-03-15</td>\n",
       "      <td>United States</td>\n",
       "      <td>HR</td>\n",
       "      <td>5</td>\n",
       "    </tr>\n",
       "    <tr>\n",
       "      <th>3</th>\n",
       "      <td>104</td>\n",
       "      <td>David</td>\n",
       "      <td>45.0</td>\n",
       "      <td>80000.000000</td>\n",
       "      <td>2020-11-25</td>\n",
       "      <td>Canada</td>\n",
       "      <td>Finance</td>\n",
       "      <td>10</td>\n",
       "    </tr>\n",
       "    <tr>\n",
       "      <th>4</th>\n",
       "      <td>105</td>\n",
       "      <td>Eve</td>\n",
       "      <td>29.0</td>\n",
       "      <td>45000.000000</td>\n",
       "      <td>2021-07-19</td>\n",
       "      <td>canada</td>\n",
       "      <td>IT</td>\n",
       "      <td>4</td>\n",
       "    </tr>\n",
       "  </tbody>\n",
       "</table>\n",
       "</div>"
      ],
      "text/plain": [
       "    ID     Name   Age        Salary   Join_Date        Country Department  \\\n",
       "0  101    Alice  25.0  50000.000000  2021-01-10            USA         HR   \n",
       "1  102      Bob  29.0  60000.000000  2020-12-05            usa         IT   \n",
       "2  103  Charlie  30.0  59285.714286  2021-03-15  United States         HR   \n",
       "3  104    David  45.0  80000.000000  2020-11-25         Canada    Finance   \n",
       "4  105      Eve  29.0  45000.000000  2021-07-19         canada         IT   \n",
       "\n",
       "   Experience_Years  \n",
       "0                 3  \n",
       "1                -1  \n",
       "2                 5  \n",
       "3                10  \n",
       "4                 4  "
      ]
     },
     "execution_count": 28,
     "metadata": {},
     "output_type": "execute_result"
    }
   ],
   "source": [
    "df_cleaned.head()"
   ]
  },
  {
   "cell_type": "markdown",
   "id": "1aa96ff4-802e-43ee-9fb0-584c2c5cd44d",
   "metadata": {},
   "source": [
    "## Exercise 2"
   ]
  },
  {
   "cell_type": "markdown",
   "id": "23a92c3a-2254-4904-b9e8-e3c07c31a74b",
   "metadata": {},
   "source": [
    "Handle missing values in 'Age', 'Salary', and 'Department'."
   ]
  },
  {
   "cell_type": "code",
   "execution_count": 83,
   "id": "358d2ed8-3019-4720-86e2-b4459805e5f5",
   "metadata": {},
   "outputs": [
    {
     "name": "stdout",
     "output_type": "stream",
     "text": [
      "    ID     Name   Age        Salary     Join_Date        Country Department  \\\n",
      "0  101    Alice  25.0  50000.000000    2021-01-10            USA         HR   \n",
      "1  102      Bob  29.0  60000.000000    2020-12-05            usa         IT   \n",
      "2  103  Charlie  30.0  59285.714286    2021-03-15  United States         HR   \n",
      "3  104    David  45.0  80000.000000    2020-11-25         Canada    Finance   \n",
      "4  105      Eve  29.0  45000.000000    2021-07-19         canada         IT   \n",
      "5  106    Frank  35.0  70000.000000    2021-02-22         Mexico         HR   \n",
      "6  107    Grace  27.0  55000.000000  Invalid Date         MEXICO    Finance   \n",
      "\n",
      "   Experience_Years  \n",
      "0                 3  \n",
      "1                -1  \n",
      "2                 5  \n",
      "3                10  \n",
      "4                 4  \n",
      "5                 7  \n",
      "6                 3  \n"
     ]
    },
    {
     "name": "stderr",
     "output_type": "stream",
     "text": [
      "C:\\ProgramData\\Anaconda3\\lib\\site-packages\\pandas\\core\\series.py:4463: SettingWithCopyWarning: \n",
      "A value is trying to be set on a copy of a slice from a DataFrame\n",
      "\n",
      "See the caveats in the documentation: https://pandas.pydata.org/pandas-docs/stable/user_guide/indexing.html#returning-a-view-versus-a-copy\n",
      "  return super().fillna(\n"
     ]
    },
    {
     "data": {
      "text/html": [
       "<div>\n",
       "<style scoped>\n",
       "    .dataframe tbody tr th:only-of-type {\n",
       "        vertical-align: middle;\n",
       "    }\n",
       "\n",
       "    .dataframe tbody tr th {\n",
       "        vertical-align: top;\n",
       "    }\n",
       "\n",
       "    .dataframe thead th {\n",
       "        text-align: right;\n",
       "    }\n",
       "</style>\n",
       "<table border=\"1\" class=\"dataframe\">\n",
       "  <thead>\n",
       "    <tr style=\"text-align: right;\">\n",
       "      <th></th>\n",
       "      <th>ID</th>\n",
       "      <th>Name</th>\n",
       "      <th>Age</th>\n",
       "      <th>Salary</th>\n",
       "      <th>Join_Date</th>\n",
       "      <th>Country</th>\n",
       "      <th>Department</th>\n",
       "      <th>Experience_Years</th>\n",
       "    </tr>\n",
       "  </thead>\n",
       "  <tbody>\n",
       "    <tr>\n",
       "      <th>0</th>\n",
       "      <td>101</td>\n",
       "      <td>Alice</td>\n",
       "      <td>25.0</td>\n",
       "      <td>50000.000000</td>\n",
       "      <td>2021-01-10</td>\n",
       "      <td>USA</td>\n",
       "      <td>HR</td>\n",
       "      <td>3</td>\n",
       "    </tr>\n",
       "    <tr>\n",
       "      <th>1</th>\n",
       "      <td>102</td>\n",
       "      <td>Bob</td>\n",
       "      <td>29.0</td>\n",
       "      <td>60000.000000</td>\n",
       "      <td>2020-12-05</td>\n",
       "      <td>usa</td>\n",
       "      <td>IT</td>\n",
       "      <td>-1</td>\n",
       "    </tr>\n",
       "    <tr>\n",
       "      <th>2</th>\n",
       "      <td>103</td>\n",
       "      <td>Charlie</td>\n",
       "      <td>30.0</td>\n",
       "      <td>59285.714286</td>\n",
       "      <td>2021-03-15</td>\n",
       "      <td>United States</td>\n",
       "      <td>HR</td>\n",
       "      <td>5</td>\n",
       "    </tr>\n",
       "    <tr>\n",
       "      <th>3</th>\n",
       "      <td>104</td>\n",
       "      <td>David</td>\n",
       "      <td>45.0</td>\n",
       "      <td>80000.000000</td>\n",
       "      <td>2020-11-25</td>\n",
       "      <td>Canada</td>\n",
       "      <td>Finance</td>\n",
       "      <td>10</td>\n",
       "    </tr>\n",
       "    <tr>\n",
       "      <th>4</th>\n",
       "      <td>105</td>\n",
       "      <td>Eve</td>\n",
       "      <td>29.0</td>\n",
       "      <td>45000.000000</td>\n",
       "      <td>2021-07-19</td>\n",
       "      <td>canada</td>\n",
       "      <td>IT</td>\n",
       "      <td>4</td>\n",
       "    </tr>\n",
       "  </tbody>\n",
       "</table>\n",
       "</div>"
      ],
      "text/plain": [
       "    ID     Name   Age        Salary   Join_Date        Country Department  \\\n",
       "0  101    Alice  25.0  50000.000000  2021-01-10            USA         HR   \n",
       "1  102      Bob  29.0  60000.000000  2020-12-05            usa         IT   \n",
       "2  103  Charlie  30.0  59285.714286  2021-03-15  United States         HR   \n",
       "3  104    David  45.0  80000.000000  2020-11-25         Canada    Finance   \n",
       "4  105      Eve  29.0  45000.000000  2021-07-19         canada         IT   \n",
       "\n",
       "   Experience_Years  \n",
       "0                 3  \n",
       "1                -1  \n",
       "2                 5  \n",
       "3                10  \n",
       "4                 4  "
      ]
     },
     "execution_count": 83,
     "metadata": {},
     "output_type": "execute_result"
    }
   ],
   "source": [
    "df_cleaned['Age'].fillna(df['Age'].median(), inplace=True)\n",
    "df_cleaned['Salary'].fillna(df['Salary'].mean(), inplace=True)\n",
    "df_cleaned['Department'].fillna(df['Department'].mode()[0], inplace=True)\n",
    "#df_cleaned['Join_Date'].fillna(df['Join_Date'].mode()[0], inplace=True)\n",
    "print(df_cleaned)\n",
    "df_cleaned.head()"
   ]
  },
  {
   "cell_type": "markdown",
   "id": "40399716-a722-4306-8a87-eaa89dd6f40d",
   "metadata": {},
   "source": [
    "## Exercise 3"
   ]
  },
  {
   "cell_type": "markdown",
   "id": "005341ef-4d47-457f-a115-06e3d184e276",
   "metadata": {},
   "source": [
    "Standardize 'Country' names to maintain consistency"
   ]
  },
  {
   "cell_type": "code",
   "execution_count": 84,
   "id": "3ee5a5d0-79f5-4467-a552-13b1e3e2b40d",
   "metadata": {},
   "outputs": [
    {
     "name": "stdout",
     "output_type": "stream",
     "text": [
      "    ID     Name   Age        Salary     Join_Date        Country Department  \\\n",
      "0  101    Alice  25.0  50000.000000    2021-01-10  united states         HR   \n",
      "1  102      Bob  29.0  60000.000000    2020-12-05  united states         IT   \n",
      "2  103  Charlie  30.0  59285.714286    2021-03-15  united states         HR   \n",
      "3  104    David  45.0  80000.000000    2020-11-25         canada    Finance   \n",
      "4  105      Eve  29.0  45000.000000    2021-07-19         canada         IT   \n",
      "5  106    Frank  35.0  70000.000000    2021-02-22         mexico         HR   \n",
      "6  107    Grace  27.0  55000.000000  Invalid Date         mexico    Finance   \n",
      "\n",
      "   Experience_Years  \n",
      "0                 3  \n",
      "1                -1  \n",
      "2                 5  \n",
      "3                10  \n",
      "4                 4  \n",
      "5                 7  \n",
      "6                 3  \n"
     ]
    },
    {
     "name": "stderr",
     "output_type": "stream",
     "text": [
      "<ipython-input-84-7c0d66e2437a>:1: SettingWithCopyWarning: \n",
      "A value is trying to be set on a copy of a slice from a DataFrame.\n",
      "Try using .loc[row_indexer,col_indexer] = value instead\n",
      "\n",
      "See the caveats in the documentation: https://pandas.pydata.org/pandas-docs/stable/user_guide/indexing.html#returning-a-view-versus-a-copy\n",
      "  df_cleaned['Country'] = df_cleaned['Country'].str.lower().replace({'usa': 'united states', 'canada': 'canada', 'mexico': 'mexico'})\n"
     ]
    },
    {
     "data": {
      "text/html": [
       "<div>\n",
       "<style scoped>\n",
       "    .dataframe tbody tr th:only-of-type {\n",
       "        vertical-align: middle;\n",
       "    }\n",
       "\n",
       "    .dataframe tbody tr th {\n",
       "        vertical-align: top;\n",
       "    }\n",
       "\n",
       "    .dataframe thead th {\n",
       "        text-align: right;\n",
       "    }\n",
       "</style>\n",
       "<table border=\"1\" class=\"dataframe\">\n",
       "  <thead>\n",
       "    <tr style=\"text-align: right;\">\n",
       "      <th></th>\n",
       "      <th>ID</th>\n",
       "      <th>Name</th>\n",
       "      <th>Age</th>\n",
       "      <th>Salary</th>\n",
       "      <th>Join_Date</th>\n",
       "      <th>Country</th>\n",
       "      <th>Department</th>\n",
       "      <th>Experience_Years</th>\n",
       "    </tr>\n",
       "  </thead>\n",
       "  <tbody>\n",
       "    <tr>\n",
       "      <th>0</th>\n",
       "      <td>101</td>\n",
       "      <td>Alice</td>\n",
       "      <td>25.0</td>\n",
       "      <td>50000.000000</td>\n",
       "      <td>2021-01-10</td>\n",
       "      <td>united states</td>\n",
       "      <td>HR</td>\n",
       "      <td>3</td>\n",
       "    </tr>\n",
       "    <tr>\n",
       "      <th>1</th>\n",
       "      <td>102</td>\n",
       "      <td>Bob</td>\n",
       "      <td>29.0</td>\n",
       "      <td>60000.000000</td>\n",
       "      <td>2020-12-05</td>\n",
       "      <td>united states</td>\n",
       "      <td>IT</td>\n",
       "      <td>-1</td>\n",
       "    </tr>\n",
       "    <tr>\n",
       "      <th>2</th>\n",
       "      <td>103</td>\n",
       "      <td>Charlie</td>\n",
       "      <td>30.0</td>\n",
       "      <td>59285.714286</td>\n",
       "      <td>2021-03-15</td>\n",
       "      <td>united states</td>\n",
       "      <td>HR</td>\n",
       "      <td>5</td>\n",
       "    </tr>\n",
       "    <tr>\n",
       "      <th>3</th>\n",
       "      <td>104</td>\n",
       "      <td>David</td>\n",
       "      <td>45.0</td>\n",
       "      <td>80000.000000</td>\n",
       "      <td>2020-11-25</td>\n",
       "      <td>canada</td>\n",
       "      <td>Finance</td>\n",
       "      <td>10</td>\n",
       "    </tr>\n",
       "    <tr>\n",
       "      <th>4</th>\n",
       "      <td>105</td>\n",
       "      <td>Eve</td>\n",
       "      <td>29.0</td>\n",
       "      <td>45000.000000</td>\n",
       "      <td>2021-07-19</td>\n",
       "      <td>canada</td>\n",
       "      <td>IT</td>\n",
       "      <td>4</td>\n",
       "    </tr>\n",
       "  </tbody>\n",
       "</table>\n",
       "</div>"
      ],
      "text/plain": [
       "    ID     Name   Age        Salary   Join_Date        Country Department  \\\n",
       "0  101    Alice  25.0  50000.000000  2021-01-10  united states         HR   \n",
       "1  102      Bob  29.0  60000.000000  2020-12-05  united states         IT   \n",
       "2  103  Charlie  30.0  59285.714286  2021-03-15  united states         HR   \n",
       "3  104    David  45.0  80000.000000  2020-11-25         canada    Finance   \n",
       "4  105      Eve  29.0  45000.000000  2021-07-19         canada         IT   \n",
       "\n",
       "   Experience_Years  \n",
       "0                 3  \n",
       "1                -1  \n",
       "2                 5  \n",
       "3                10  \n",
       "4                 4  "
      ]
     },
     "execution_count": 84,
     "metadata": {},
     "output_type": "execute_result"
    }
   ],
   "source": [
    "df_cleaned['Country'] = df_cleaned['Country'].str.lower().replace({'usa': 'united states', 'canada': 'canada', 'mexico': 'mexico'})\n",
    "\n",
    "print(df_cleaned)\n",
    "df_cleaned.head()"
   ]
  },
  {
   "cell_type": "markdown",
   "id": "82886ccd-9a4d-4021-b5e4-29ccd67db0e2",
   "metadata": {},
   "source": [
    "## Exercise 4"
   ]
  },
  {
   "cell_type": "markdown",
   "id": "77beb80c-4a3c-4bd0-bdb5-71be28caa224",
   "metadata": {},
   "source": [
    "Convert 'Join_Date' to datetime format, handling invalid entries"
   ]
  },
  {
   "cell_type": "code",
   "execution_count": 85,
   "id": "c4ee5cab-ef65-4a2c-9d0a-2018352062b9",
   "metadata": {},
   "outputs": [
    {
     "name": "stdout",
     "output_type": "stream",
     "text": [
      "    ID     Name   Age        Salary  Join_Date        Country Department  \\\n",
      "0  101    Alice  25.0  50000.000000 2021-01-10  united states         HR   \n",
      "1  102      Bob  29.0  60000.000000 2020-12-05  united states         IT   \n",
      "2  103  Charlie  30.0  59285.714286 2021-03-15  united states         HR   \n",
      "3  104    David  45.0  80000.000000 2020-11-25         canada    Finance   \n",
      "4  105      Eve  29.0  45000.000000 2021-07-19         canada         IT   \n",
      "5  106    Frank  35.0  70000.000000 2021-02-22         mexico         HR   \n",
      "6  107    Grace  27.0  55000.000000        NaT         mexico    Finance   \n",
      "\n",
      "   Experience_Years  \n",
      "0                 3  \n",
      "1                -1  \n",
      "2                 5  \n",
      "3                10  \n",
      "4                 4  \n",
      "5                 7  \n",
      "6                 3  \n"
     ]
    },
    {
     "name": "stderr",
     "output_type": "stream",
     "text": [
      "<ipython-input-85-7c111cf406d6>:1: SettingWithCopyWarning: \n",
      "A value is trying to be set on a copy of a slice from a DataFrame.\n",
      "Try using .loc[row_indexer,col_indexer] = value instead\n",
      "\n",
      "See the caveats in the documentation: https://pandas.pydata.org/pandas-docs/stable/user_guide/indexing.html#returning-a-view-versus-a-copy\n",
      "  df_cleaned['Join_Date'] = pd.to_datetime(df_cleaned['Join_Date'], errors='coerce')\n"
     ]
    }
   ],
   "source": [
    "df_cleaned['Join_Date'] = pd.to_datetime(df_cleaned['Join_Date'], errors='coerce')\n",
    "print(df_cleaned)"
   ]
  },
  {
   "cell_type": "markdown",
   "id": "893e1f6f-233d-4e4d-bda7-3d1a833c0d41",
   "metadata": {},
   "source": [
    "## Exercise 5"
   ]
  },
  {
   "cell_type": "markdown",
   "id": "19a8e418-3ad1-45ee-a0c6-1f9a35783c26",
   "metadata": {},
   "source": [
    "Remove extra spaces in the 'Name' column."
   ]
  },
  {
   "cell_type": "code",
   "execution_count": 86,
   "id": "54a47bc7-d656-49e3-a8da-97fc2a809099",
   "metadata": {
    "scrolled": false
   },
   "outputs": [
    {
     "name": "stdout",
     "output_type": "stream",
     "text": [
      "    ID     Name   Age        Salary  Join_Date        Country Department  \\\n",
      "0  101    Alice  25.0  50000.000000 2021-01-10  united states         HR   \n",
      "1  102      Bob  29.0  60000.000000 2020-12-05  united states         IT   \n",
      "2  103  Charlie  30.0  59285.714286 2021-03-15  united states         HR   \n",
      "3  104    David  45.0  80000.000000 2020-11-25         canada    Finance   \n",
      "4  105      Eve  29.0  45000.000000 2021-07-19         canada         IT   \n",
      "5  106    Frank  35.0  70000.000000 2021-02-22         mexico         HR   \n",
      "6  107    Grace  27.0  55000.000000        NaT         mexico    Finance   \n",
      "\n",
      "   Experience_Years  \n",
      "0                 3  \n",
      "1                -1  \n",
      "2                 5  \n",
      "3                10  \n",
      "4                 4  \n",
      "5                 7  \n",
      "6                 3  \n"
     ]
    },
    {
     "name": "stderr",
     "output_type": "stream",
     "text": [
      "<ipython-input-86-2bab760241bd>:1: SettingWithCopyWarning: \n",
      "A value is trying to be set on a copy of a slice from a DataFrame.\n",
      "Try using .loc[row_indexer,col_indexer] = value instead\n",
      "\n",
      "See the caveats in the documentation: https://pandas.pydata.org/pandas-docs/stable/user_guide/indexing.html#returning-a-view-versus-a-copy\n",
      "  df_cleaned['Name'] = df_cleaned['Name'].str.strip()\n"
     ]
    }
   ],
   "source": [
    "df_cleaned['Name'] = df_cleaned['Name'].str.strip()\n",
    "print(df_cleaned)"
   ]
  },
  {
   "cell_type": "markdown",
   "id": "6517c370-f08a-421c-8927-a5991c725918",
   "metadata": {},
   "source": [
    "## Exercise 6"
   ]
  },
  {
   "cell_type": "markdown",
   "id": "5d00eb86-b912-4abf-b63f-8157a1106d12",
   "metadata": {},
   "source": [
    "Fix negative values in 'Experience_Years'"
   ]
  },
  {
   "cell_type": "code",
   "execution_count": 89,
   "id": "ecd5210c-05b3-4af8-b302-a8bfd8851b99",
   "metadata": {},
   "outputs": [
    {
     "name": "stdout",
     "output_type": "stream",
     "text": [
      "    ID     Name   Age        Salary  Join_Date        Country Department  \\\n",
      "0  101    Alice  25.0  50000.000000 2021-01-10  united states         HR   \n",
      "1  102      Bob  29.0  60000.000000 2020-12-05  united states         IT   \n",
      "2  103  Charlie  30.0  59285.714286 2021-03-15  united states         HR   \n",
      "3  104    David  45.0  80000.000000 2020-11-25         canada    Finance   \n",
      "4  105      Eve  29.0  45000.000000 2021-07-19         canada         IT   \n",
      "5  106    Frank  35.0  70000.000000 2021-02-22         mexico         HR   \n",
      "6  107    Grace  27.0  55000.000000        NaT         mexico    Finance   \n",
      "\n",
      "   Experience_Years  \n",
      "0                 3  \n",
      "1                 0  \n",
      "2                 5  \n",
      "3                10  \n",
      "4                 4  \n",
      "5                 7  \n",
      "6                 3  \n"
     ]
    },
    {
     "name": "stderr",
     "output_type": "stream",
     "text": [
      "C:\\ProgramData\\Anaconda3\\lib\\site-packages\\pandas\\core\\indexing.py:1720: SettingWithCopyWarning: \n",
      "A value is trying to be set on a copy of a slice from a DataFrame.\n",
      "Try using .loc[row_indexer,col_indexer] = value instead\n",
      "\n",
      "See the caveats in the documentation: https://pandas.pydata.org/pandas-docs/stable/user_guide/indexing.html#returning-a-view-versus-a-copy\n",
      "  self._setitem_single_column(loc, value, pi)\n"
     ]
    }
   ],
   "source": [
    "df_cleaned.loc[df_cleaned['Experience_Years'] < 0, 'Experience_Years'] = df_cleaned['Experience_Years'].median()\n",
    "\n",
    "print(df_cleaned)"
   ]
  },
  {
   "cell_type": "code",
   "execution_count": 88,
   "id": "0d98ee5d",
   "metadata": {},
   "outputs": [
    {
     "name": "stdout",
     "output_type": "stream",
     "text": [
      "    ID     Name   Age        Salary  Join_Date        Country Department  \\\n",
      "0  101    Alice  25.0  50000.000000 2021-01-10  united states         HR   \n",
      "1  102      Bob  29.0  60000.000000 2020-12-05  united states         IT   \n",
      "2  103  Charlie  30.0  59285.714286 2021-03-15  united states         HR   \n",
      "3  104    David  45.0  80000.000000 2020-11-25         canada    Finance   \n",
      "4  105      Eve  29.0  45000.000000 2021-07-19         canada         IT   \n",
      "5  106    Frank  35.0  70000.000000 2021-02-22         mexico         HR   \n",
      "6  107    Grace  27.0  55000.000000        NaT         mexico    Finance   \n",
      "\n",
      "   Experience_Years  \n",
      "0                 3  \n",
      "1                 0  \n",
      "2                 5  \n",
      "3                10  \n",
      "4                 4  \n",
      "5                 7  \n",
      "6                 3  \n"
     ]
    },
    {
     "name": "stderr",
     "output_type": "stream",
     "text": [
      "<ipython-input-88-76e0e168df9d>:2: SettingWithCopyWarning: \n",
      "A value is trying to be set on a copy of a slice from a DataFrame.\n",
      "Try using .loc[row_indexer,col_indexer] = value instead\n",
      "\n",
      "See the caveats in the documentation: https://pandas.pydata.org/pandas-docs/stable/user_guide/indexing.html#returning-a-view-versus-a-copy\n",
      "  df_cleaned['Experience_Years'] = df_cleaned['Experience_Years'].apply(lambda x: abs(x) if x < 0 else x)\n"
     ]
    }
   ],
   "source": [
    "# by taking absolute values\n",
    "df_cleaned['Experience_Years'] = df_cleaned['Experience_Years'].apply(lambda x: abs(x) if x < 0 else x)\n",
    "\n",
    "print(df_cleaned)\n"
   ]
  },
  {
   "cell_type": "code",
   "execution_count": 87,
   "id": "0774f321",
   "metadata": {},
   "outputs": [
    {
     "name": "stdout",
     "output_type": "stream",
     "text": [
      "    ID     Name   Age        Salary  Join_Date        Country Department  \\\n",
      "0  101    Alice  25.0  50000.000000 2021-01-10  united states         HR   \n",
      "1  102      Bob  29.0  60000.000000 2020-12-05  united states         IT   \n",
      "2  103  Charlie  30.0  59285.714286 2021-03-15  united states         HR   \n",
      "3  104    David  45.0  80000.000000 2020-11-25         canada    Finance   \n",
      "4  105      Eve  29.0  45000.000000 2021-07-19         canada         IT   \n",
      "5  106    Frank  35.0  70000.000000 2021-02-22         mexico         HR   \n",
      "6  107    Grace  27.0  55000.000000        NaT         mexico    Finance   \n",
      "\n",
      "   Experience_Years  \n",
      "0                 3  \n",
      "1                 0  \n",
      "2                 5  \n",
      "3                10  \n",
      "4                 4  \n",
      "5                 7  \n",
      "6                 3  \n"
     ]
    },
    {
     "name": "stderr",
     "output_type": "stream",
     "text": [
      "<ipython-input-87-964ad7251a17>:1: SettingWithCopyWarning: \n",
      "A value is trying to be set on a copy of a slice from a DataFrame.\n",
      "Try using .loc[row_indexer,col_indexer] = value instead\n",
      "\n",
      "See the caveats in the documentation: https://pandas.pydata.org/pandas-docs/stable/user_guide/indexing.html#returning-a-view-versus-a-copy\n",
      "  df_cleaned['Experience_Years'] = df_cleaned['Experience_Years'].apply(lambda x: 0 if x < 0 else x)\n"
     ]
    }
   ],
   "source": [
    "df_cleaned['Experience_Years'] = df_cleaned['Experience_Years'].apply(lambda x: 0 if x < 0 else x)\n",
    "\n",
    "print(df_cleaned)"
   ]
  },
  {
   "cell_type": "code",
   "execution_count": 90,
   "id": "48a775a9",
   "metadata": {},
   "outputs": [
    {
     "name": "stdout",
     "output_type": "stream",
     "text": [
      "    ID     Name   Age        Salary  Join_Date        Country Department  \\\n",
      "0  101    Alice  25.0  50000.000000 2021-01-10  united states         HR   \n",
      "1  102      Bob  29.0  60000.000000 2020-12-05  united states         IT   \n",
      "2  103  Charlie  30.0  59285.714286 2021-03-15  united states         HR   \n",
      "3  104    David  45.0  80000.000000 2020-11-25         canada    Finance   \n",
      "4  105      Eve  29.0  45000.000000 2021-07-19         canada         IT   \n",
      "5  106    Frank  35.0  70000.000000 2021-02-22         mexico         HR   \n",
      "6  107    Grace  27.0  55000.000000        NaT         mexico    Finance   \n",
      "\n",
      "   Experience_Years  \n",
      "0                 3  \n",
      "1                 0  \n",
      "2                 5  \n",
      "3                10  \n",
      "4                 4  \n",
      "5                 7  \n",
      "6                 3  \n"
     ]
    },
    {
     "name": "stderr",
     "output_type": "stream",
     "text": [
      "<ipython-input-90-af9351c2ee4e>:1: SettingWithCopyWarning: \n",
      "A value is trying to be set on a copy of a slice from a DataFrame.\n",
      "Try using .loc[row_indexer,col_indexer] = value instead\n",
      "\n",
      "See the caveats in the documentation: https://pandas.pydata.org/pandas-docs/stable/user_guide/indexing.html#returning-a-view-versus-a-copy\n",
      "  df_cleaned['Experience_Years'] = df_cleaned['Experience_Years'].apply(lambda x: df['Experience_Years'].median() if x < 0 else x)\n"
     ]
    }
   ],
   "source": [
    "df_cleaned['Experience_Years'] = df_cleaned['Experience_Years'].apply(lambda x: df['Experience_Years'].median() if x < 0 else x)\n",
    "print(df_cleaned)"
   ]
  },
  {
   "cell_type": "markdown",
   "id": "9905a5c7-b4a5-41cf-a10b-ddeaaa230fee",
   "metadata": {},
   "source": [
    "## Exercise 7"
   ]
  },
  {
   "cell_type": "markdown",
   "id": "b1662d87-2a42-45c5-9c89-67216727d004",
   "metadata": {},
   "source": [
    "Normalize 'Salary' using Min-Max scaling"
   ]
  },
  {
   "cell_type": "code",
   "execution_count": 91,
   "id": "cf42b699",
   "metadata": {},
   "outputs": [
    {
     "name": "stdout",
     "output_type": "stream",
     "text": [
      "    ID     Name   Age    Salary  Join_Date        Country Department  \\\n",
      "0  101    Alice  25.0  0.142857 2021-01-10  united states         HR   \n",
      "1  102      Bob  29.0  0.428571 2020-12-05  united states         IT   \n",
      "2  103  Charlie  30.0  0.408163 2021-03-15  united states         HR   \n",
      "3  104    David  45.0  1.000000 2020-11-25         canada    Finance   \n",
      "4  105      Eve  29.0  0.000000 2021-07-19         canada         IT   \n",
      "5  106    Frank  35.0  0.714286 2021-02-22         mexico         HR   \n",
      "6  107    Grace  27.0  0.285714        NaT         mexico    Finance   \n",
      "\n",
      "   Experience_Years  \n",
      "0                 3  \n",
      "1                 0  \n",
      "2                 5  \n",
      "3                10  \n",
      "4                 4  \n",
      "5                 7  \n",
      "6                 3  \n"
     ]
    },
    {
     "name": "stderr",
     "output_type": "stream",
     "text": [
      "<ipython-input-91-3bcd056d44da>:7: SettingWithCopyWarning: \n",
      "A value is trying to be set on a copy of a slice from a DataFrame.\n",
      "Try using .loc[row_indexer,col_indexer] = value instead\n",
      "\n",
      "See the caveats in the documentation: https://pandas.pydata.org/pandas-docs/stable/user_guide/indexing.html#returning-a-view-versus-a-copy\n",
      "  df_cleaned['Salary'] = scaler.fit_transform(df_cleaned[['Salary']])\n"
     ]
    }
   ],
   "source": [
    "from sklearn.preprocessing import MinMaxScaler\n",
    "\n",
    "# Initialize MinMaxScaler\n",
    "scaler = MinMaxScaler()\n",
    "\n",
    "# Reshape 'Salary' for scaling (needed for sklearn)\n",
    "df_cleaned['Salary'] = scaler.fit_transform(df_cleaned[['Salary']])\n",
    "\n",
    "# Display updated DataFrame\n",
    "print(df_cleaned)\n"
   ]
  },
  {
   "cell_type": "code",
   "execution_count": 92,
   "id": "ee72ff8a-a93f-46f1-8630-93a218fee390",
   "metadata": {
    "scrolled": true
   },
   "outputs": [
    {
     "name": "stderr",
     "output_type": "stream",
     "text": [
      "<ipython-input-92-88790ab90d26>:1: SettingWithCopyWarning: \n",
      "A value is trying to be set on a copy of a slice from a DataFrame.\n",
      "Try using .loc[row_indexer,col_indexer] = value instead\n",
      "\n",
      "See the caveats in the documentation: https://pandas.pydata.org/pandas-docs/stable/user_guide/indexing.html#returning-a-view-versus-a-copy\n",
      "  df_cleaned['Salary'] = (df_cleaned['Salary'] - df_cleaned['Salary'].min()) / (df_cleaned['Salary'].max() - df_cleaned['Salary'].min())\n"
     ]
    },
    {
     "data": {
      "text/html": [
       "<div>\n",
       "<style scoped>\n",
       "    .dataframe tbody tr th:only-of-type {\n",
       "        vertical-align: middle;\n",
       "    }\n",
       "\n",
       "    .dataframe tbody tr th {\n",
       "        vertical-align: top;\n",
       "    }\n",
       "\n",
       "    .dataframe thead th {\n",
       "        text-align: right;\n",
       "    }\n",
       "</style>\n",
       "<table border=\"1\" class=\"dataframe\">\n",
       "  <thead>\n",
       "    <tr style=\"text-align: right;\">\n",
       "      <th></th>\n",
       "      <th>ID</th>\n",
       "      <th>Name</th>\n",
       "      <th>Age</th>\n",
       "      <th>Salary</th>\n",
       "      <th>Join_Date</th>\n",
       "      <th>Country</th>\n",
       "      <th>Department</th>\n",
       "      <th>Experience_Years</th>\n",
       "    </tr>\n",
       "  </thead>\n",
       "  <tbody>\n",
       "    <tr>\n",
       "      <th>0</th>\n",
       "      <td>101</td>\n",
       "      <td>Alice</td>\n",
       "      <td>25.0</td>\n",
       "      <td>0.142857</td>\n",
       "      <td>2021-01-10</td>\n",
       "      <td>united states</td>\n",
       "      <td>HR</td>\n",
       "      <td>3</td>\n",
       "    </tr>\n",
       "    <tr>\n",
       "      <th>1</th>\n",
       "      <td>102</td>\n",
       "      <td>Bob</td>\n",
       "      <td>29.0</td>\n",
       "      <td>0.428571</td>\n",
       "      <td>2020-12-05</td>\n",
       "      <td>united states</td>\n",
       "      <td>IT</td>\n",
       "      <td>0</td>\n",
       "    </tr>\n",
       "    <tr>\n",
       "      <th>2</th>\n",
       "      <td>103</td>\n",
       "      <td>Charlie</td>\n",
       "      <td>30.0</td>\n",
       "      <td>0.408163</td>\n",
       "      <td>2021-03-15</td>\n",
       "      <td>united states</td>\n",
       "      <td>HR</td>\n",
       "      <td>5</td>\n",
       "    </tr>\n",
       "    <tr>\n",
       "      <th>3</th>\n",
       "      <td>104</td>\n",
       "      <td>David</td>\n",
       "      <td>45.0</td>\n",
       "      <td>1.000000</td>\n",
       "      <td>2020-11-25</td>\n",
       "      <td>canada</td>\n",
       "      <td>Finance</td>\n",
       "      <td>10</td>\n",
       "    </tr>\n",
       "    <tr>\n",
       "      <th>4</th>\n",
       "      <td>105</td>\n",
       "      <td>Eve</td>\n",
       "      <td>29.0</td>\n",
       "      <td>0.000000</td>\n",
       "      <td>2021-07-19</td>\n",
       "      <td>canada</td>\n",
       "      <td>IT</td>\n",
       "      <td>4</td>\n",
       "    </tr>\n",
       "  </tbody>\n",
       "</table>\n",
       "</div>"
      ],
      "text/plain": [
       "    ID     Name   Age    Salary  Join_Date        Country Department  \\\n",
       "0  101    Alice  25.0  0.142857 2021-01-10  united states         HR   \n",
       "1  102      Bob  29.0  0.428571 2020-12-05  united states         IT   \n",
       "2  103  Charlie  30.0  0.408163 2021-03-15  united states         HR   \n",
       "3  104    David  45.0  1.000000 2020-11-25         canada    Finance   \n",
       "4  105      Eve  29.0  0.000000 2021-07-19         canada         IT   \n",
       "\n",
       "   Experience_Years  \n",
       "0                 3  \n",
       "1                 0  \n",
       "2                 5  \n",
       "3                10  \n",
       "4                 4  "
      ]
     },
     "execution_count": 92,
     "metadata": {},
     "output_type": "execute_result"
    }
   ],
   "source": [
    "df_cleaned['Salary'] = (df_cleaned['Salary'] - df_cleaned['Salary'].min()) / (df_cleaned['Salary'].max() - df_cleaned['Salary'].min())\n",
    "\n",
    "df_cleaned.head()"
   ]
  },
  {
   "cell_type": "code",
   "execution_count": null,
   "id": "c6f9a909",
   "metadata": {},
   "outputs": [],
   "source": []
  },
  {
   "cell_type": "markdown",
   "id": "8bf2a4f6-4b33-43d5-9fa3-f9ae7b3093be",
   "metadata": {},
   "source": [
    "## Exercise 8"
   ]
  },
  {
   "cell_type": "markdown",
   "id": "8b421568-e225-4761-90c0-9120d9e06ab1",
   "metadata": {},
   "source": [
    "One-hot encode the 'Department' column"
   ]
  },
  {
   "cell_type": "code",
   "execution_count": 93,
   "id": "ef2f837a-52c7-4085-9746-770abaadcf37",
   "metadata": {},
   "outputs": [
    {
     "name": "stdout",
     "output_type": "stream",
     "text": [
      "    ID     Name   Age    Salary  Join_Date        Country  Experience_Years  \\\n",
      "0  101    Alice  25.0  0.142857 2021-01-10  united states                 3   \n",
      "1  102      Bob  29.0  0.428571 2020-12-05  united states                 0   \n",
      "2  103  Charlie  30.0  0.408163 2021-03-15  united states                 5   \n",
      "3  104    David  45.0  1.000000 2020-11-25         canada                10   \n",
      "4  105      Eve  29.0  0.000000 2021-07-19         canada                 4   \n",
      "5  106    Frank  35.0  0.714286 2021-02-22         mexico                 7   \n",
      "6  107    Grace  27.0  0.285714        NaT         mexico                 3   \n",
      "\n",
      "   Dept_Finance  Dept_HR  Dept_IT  \n",
      "0             0        1        0  \n",
      "1             0        0        1  \n",
      "2             0        1        0  \n",
      "3             1        0        0  \n",
      "4             0        0        1  \n",
      "5             0        1        0  \n",
      "6             1        0        0  \n"
     ]
    }
   ],
   "source": [
    "# One-hot encoding the 'Department' column\n",
    "df_cleaned = pd.get_dummies(df_cleaned, columns=['Department'], prefix='Dept')\n",
    "\n",
    "# Display updated DataFrame\n",
    "print(df_cleaned)\n"
   ]
  },
  {
   "cell_type": "code",
   "execution_count": 94,
   "id": "fe074df1",
   "metadata": {},
   "outputs": [
    {
     "ename": "KeyError",
     "evalue": "\"None of [Index(['Department_IT'], dtype='object')] are in the [columns]\"",
     "output_type": "error",
     "traceback": [
      "\u001b[1;31m---------------------------------------------------------------------------\u001b[0m",
      "\u001b[1;31mKeyError\u001b[0m                                  Traceback (most recent call last)",
      "\u001b[1;32m<ipython-input-94-d2a2cf295b16>\u001b[0m in \u001b[0;36m<module>\u001b[1;34m\u001b[0m\n\u001b[0;32m      1\u001b[0m \u001b[1;31m# Step 7: Encoding Categorical Data (One-Hot Encoding for Department)\u001b[0m\u001b[1;33m\u001b[0m\u001b[1;33m\u001b[0m\u001b[1;33m\u001b[0m\u001b[0m\n\u001b[1;32m----> 2\u001b[1;33m \u001b[0mdf_cleaned\u001b[0m \u001b[1;33m=\u001b[0m \u001b[0mpd\u001b[0m\u001b[1;33m.\u001b[0m\u001b[0mget_dummies\u001b[0m\u001b[1;33m(\u001b[0m\u001b[0mdf_cleaned\u001b[0m\u001b[1;33m,\u001b[0m \u001b[0mcolumns\u001b[0m\u001b[1;33m=\u001b[0m\u001b[1;33m[\u001b[0m\u001b[1;34m'Department_IT'\u001b[0m\u001b[1;33m]\u001b[0m\u001b[1;33m)\u001b[0m\u001b[1;33m\u001b[0m\u001b[1;33m\u001b[0m\u001b[0m\n\u001b[0m",
      "\u001b[1;32mC:\\ProgramData\\Anaconda3\\lib\\site-packages\\pandas\\core\\reshape\\reshape.py\u001b[0m in \u001b[0;36mget_dummies\u001b[1;34m(data, prefix, prefix_sep, dummy_na, columns, sparse, drop_first, dtype)\u001b[0m\n\u001b[0;32m    845\u001b[0m             \u001b[1;32mraise\u001b[0m \u001b[0mTypeError\u001b[0m\u001b[1;33m(\u001b[0m\u001b[1;34m\"Input must be a list-like for parameter `columns`\"\u001b[0m\u001b[1;33m)\u001b[0m\u001b[1;33m\u001b[0m\u001b[1;33m\u001b[0m\u001b[0m\n\u001b[0;32m    846\u001b[0m         \u001b[1;32melse\u001b[0m\u001b[1;33m:\u001b[0m\u001b[1;33m\u001b[0m\u001b[1;33m\u001b[0m\u001b[0m\n\u001b[1;32m--> 847\u001b[1;33m             \u001b[0mdata_to_encode\u001b[0m \u001b[1;33m=\u001b[0m \u001b[0mdata\u001b[0m\u001b[1;33m[\u001b[0m\u001b[0mcolumns\u001b[0m\u001b[1;33m]\u001b[0m\u001b[1;33m\u001b[0m\u001b[1;33m\u001b[0m\u001b[0m\n\u001b[0m\u001b[0;32m    848\u001b[0m \u001b[1;33m\u001b[0m\u001b[0m\n\u001b[0;32m    849\u001b[0m         \u001b[1;31m# validate prefixes and separator to avoid silently dropping cols\u001b[0m\u001b[1;33m\u001b[0m\u001b[1;33m\u001b[0m\u001b[1;33m\u001b[0m\u001b[0m\n",
      "\u001b[1;32mC:\\ProgramData\\Anaconda3\\lib\\site-packages\\pandas\\core\\frame.py\u001b[0m in \u001b[0;36m__getitem__\u001b[1;34m(self, key)\u001b[0m\n\u001b[0;32m   3028\u001b[0m             \u001b[1;32mif\u001b[0m \u001b[0mis_iterator\u001b[0m\u001b[1;33m(\u001b[0m\u001b[0mkey\u001b[0m\u001b[1;33m)\u001b[0m\u001b[1;33m:\u001b[0m\u001b[1;33m\u001b[0m\u001b[1;33m\u001b[0m\u001b[0m\n\u001b[0;32m   3029\u001b[0m                 \u001b[0mkey\u001b[0m \u001b[1;33m=\u001b[0m \u001b[0mlist\u001b[0m\u001b[1;33m(\u001b[0m\u001b[0mkey\u001b[0m\u001b[1;33m)\u001b[0m\u001b[1;33m\u001b[0m\u001b[1;33m\u001b[0m\u001b[0m\n\u001b[1;32m-> 3030\u001b[1;33m             \u001b[0mindexer\u001b[0m \u001b[1;33m=\u001b[0m \u001b[0mself\u001b[0m\u001b[1;33m.\u001b[0m\u001b[0mloc\u001b[0m\u001b[1;33m.\u001b[0m\u001b[0m_get_listlike_indexer\u001b[0m\u001b[1;33m(\u001b[0m\u001b[0mkey\u001b[0m\u001b[1;33m,\u001b[0m \u001b[0maxis\u001b[0m\u001b[1;33m=\u001b[0m\u001b[1;36m1\u001b[0m\u001b[1;33m,\u001b[0m \u001b[0mraise_missing\u001b[0m\u001b[1;33m=\u001b[0m\u001b[1;32mTrue\u001b[0m\u001b[1;33m)\u001b[0m\u001b[1;33m[\u001b[0m\u001b[1;36m1\u001b[0m\u001b[1;33m]\u001b[0m\u001b[1;33m\u001b[0m\u001b[1;33m\u001b[0m\u001b[0m\n\u001b[0m\u001b[0;32m   3031\u001b[0m \u001b[1;33m\u001b[0m\u001b[0m\n\u001b[0;32m   3032\u001b[0m         \u001b[1;31m# take() does not accept boolean indexers\u001b[0m\u001b[1;33m\u001b[0m\u001b[1;33m\u001b[0m\u001b[1;33m\u001b[0m\u001b[0m\n",
      "\u001b[1;32mC:\\ProgramData\\Anaconda3\\lib\\site-packages\\pandas\\core\\indexing.py\u001b[0m in \u001b[0;36m_get_listlike_indexer\u001b[1;34m(self, key, axis, raise_missing)\u001b[0m\n\u001b[0;32m   1264\u001b[0m             \u001b[0mkeyarr\u001b[0m\u001b[1;33m,\u001b[0m \u001b[0mindexer\u001b[0m\u001b[1;33m,\u001b[0m \u001b[0mnew_indexer\u001b[0m \u001b[1;33m=\u001b[0m \u001b[0max\u001b[0m\u001b[1;33m.\u001b[0m\u001b[0m_reindex_non_unique\u001b[0m\u001b[1;33m(\u001b[0m\u001b[0mkeyarr\u001b[0m\u001b[1;33m)\u001b[0m\u001b[1;33m\u001b[0m\u001b[1;33m\u001b[0m\u001b[0m\n\u001b[0;32m   1265\u001b[0m \u001b[1;33m\u001b[0m\u001b[0m\n\u001b[1;32m-> 1266\u001b[1;33m         \u001b[0mself\u001b[0m\u001b[1;33m.\u001b[0m\u001b[0m_validate_read_indexer\u001b[0m\u001b[1;33m(\u001b[0m\u001b[0mkeyarr\u001b[0m\u001b[1;33m,\u001b[0m \u001b[0mindexer\u001b[0m\u001b[1;33m,\u001b[0m \u001b[0maxis\u001b[0m\u001b[1;33m,\u001b[0m \u001b[0mraise_missing\u001b[0m\u001b[1;33m=\u001b[0m\u001b[0mraise_missing\u001b[0m\u001b[1;33m)\u001b[0m\u001b[1;33m\u001b[0m\u001b[1;33m\u001b[0m\u001b[0m\n\u001b[0m\u001b[0;32m   1267\u001b[0m         \u001b[1;32mreturn\u001b[0m \u001b[0mkeyarr\u001b[0m\u001b[1;33m,\u001b[0m \u001b[0mindexer\u001b[0m\u001b[1;33m\u001b[0m\u001b[1;33m\u001b[0m\u001b[0m\n\u001b[0;32m   1268\u001b[0m \u001b[1;33m\u001b[0m\u001b[0m\n",
      "\u001b[1;32mC:\\ProgramData\\Anaconda3\\lib\\site-packages\\pandas\\core\\indexing.py\u001b[0m in \u001b[0;36m_validate_read_indexer\u001b[1;34m(self, key, indexer, axis, raise_missing)\u001b[0m\n\u001b[0;32m   1306\u001b[0m             \u001b[1;32mif\u001b[0m \u001b[0mmissing\u001b[0m \u001b[1;33m==\u001b[0m \u001b[0mlen\u001b[0m\u001b[1;33m(\u001b[0m\u001b[0mindexer\u001b[0m\u001b[1;33m)\u001b[0m\u001b[1;33m:\u001b[0m\u001b[1;33m\u001b[0m\u001b[1;33m\u001b[0m\u001b[0m\n\u001b[0;32m   1307\u001b[0m                 \u001b[0maxis_name\u001b[0m \u001b[1;33m=\u001b[0m \u001b[0mself\u001b[0m\u001b[1;33m.\u001b[0m\u001b[0mobj\u001b[0m\u001b[1;33m.\u001b[0m\u001b[0m_get_axis_name\u001b[0m\u001b[1;33m(\u001b[0m\u001b[0maxis\u001b[0m\u001b[1;33m)\u001b[0m\u001b[1;33m\u001b[0m\u001b[1;33m\u001b[0m\u001b[0m\n\u001b[1;32m-> 1308\u001b[1;33m                 \u001b[1;32mraise\u001b[0m \u001b[0mKeyError\u001b[0m\u001b[1;33m(\u001b[0m\u001b[1;34mf\"None of [{key}] are in the [{axis_name}]\"\u001b[0m\u001b[1;33m)\u001b[0m\u001b[1;33m\u001b[0m\u001b[1;33m\u001b[0m\u001b[0m\n\u001b[0m\u001b[0;32m   1309\u001b[0m \u001b[1;33m\u001b[0m\u001b[0m\n\u001b[0;32m   1310\u001b[0m             \u001b[0max\u001b[0m \u001b[1;33m=\u001b[0m \u001b[0mself\u001b[0m\u001b[1;33m.\u001b[0m\u001b[0mobj\u001b[0m\u001b[1;33m.\u001b[0m\u001b[0m_get_axis\u001b[0m\u001b[1;33m(\u001b[0m\u001b[0maxis\u001b[0m\u001b[1;33m)\u001b[0m\u001b[1;33m\u001b[0m\u001b[1;33m\u001b[0m\u001b[0m\n",
      "\u001b[1;31mKeyError\u001b[0m: \"None of [Index(['Department_IT'], dtype='object')] are in the [columns]\""
     ]
    }
   ],
   "source": [
    "# Step 7: Encoding Categorical Data (One-Hot Encoding for Department)\n",
    "df_cleaned = pd.get_dummies(df_cleaned, columns=['Department_IT'])"
   ]
  },
  {
   "cell_type": "markdown",
   "id": "c138eda4-23f9-4fb0-ac17-5ed3a6b1f165",
   "metadata": {},
   "source": [
    "## Exercise 9"
   ]
  },
  {
   "cell_type": "markdown",
   "id": "c60a8f07-1aa6-4785-a57f-b82ce3e993a3",
   "metadata": {},
   "source": [
    " Write a function that combines all the above processes"
   ]
  },
  {
   "cell_type": "code",
   "execution_count": 114,
   "id": "b2147d5a-1cb1-48fd-881e-9b5a74851604",
   "metadata": {},
   "outputs": [
    {
     "name": "stdout",
     "output_type": "stream",
     "text": [
      "    ID     Name   Age    Salary  Join_Date        Country  Experience_Years  \\\n",
      "0  101    Alice  25.0  0.142857 2021-01-10  united states               3.0   \n",
      "1  102      Bob  29.5  0.428571 2020-12-05  united states               4.0   \n",
      "2  103  Charlie  30.0  0.428571 2021-03-15  united states               5.0   \n",
      "3  104    David  45.0  1.000000 2020-11-25         canada              10.0   \n",
      "4  105      Eve  29.0  0.000000 2021-07-19         canada               4.0   \n",
      "5  106    Frank  35.0  0.714286 2021-02-22         mexico               7.0   \n",
      "6  107    Grace  27.0  0.285714        NaT         mexico               3.0   \n",
      "\n",
      "   Dept_Finance  Dept_HR  Dept_IT  \n",
      "0             0        1        0  \n",
      "1             0        0        1  \n",
      "2             0        1        0  \n",
      "3             1        0        0  \n",
      "4             0        0        1  \n",
      "5             1        0        0  \n",
      "6             1        0        0  \n"
     ]
    },
    {
     "name": "stderr",
     "output_type": "stream",
     "text": [
      "C:\\ProgramData\\Anaconda3\\lib\\site-packages\\pandas\\core\\series.py:4463: SettingWithCopyWarning: \n",
      "A value is trying to be set on a copy of a slice from a DataFrame\n",
      "\n",
      "See the caveats in the documentation: https://pandas.pydata.org/pandas-docs/stable/user_guide/indexing.html#returning-a-view-versus-a-copy\n",
      "  return super().fillna(\n",
      "<ipython-input-114-b372f3240606>:18: SettingWithCopyWarning: \n",
      "A value is trying to be set on a copy of a slice from a DataFrame.\n",
      "Try using .loc[row_indexer,col_indexer] = value instead\n",
      "\n",
      "See the caveats in the documentation: https://pandas.pydata.org/pandas-docs/stable/user_guide/indexing.html#returning-a-view-versus-a-copy\n",
      "  df['Country'] = df['Country'].str.lower().replace({'usa': 'united states', 'canada': 'canada', 'mexico': 'mexico'})\n",
      "<ipython-input-114-b372f3240606>:22: SettingWithCopyWarning: \n",
      "A value is trying to be set on a copy of a slice from a DataFrame.\n",
      "Try using .loc[row_indexer,col_indexer] = value instead\n",
      "\n",
      "See the caveats in the documentation: https://pandas.pydata.org/pandas-docs/stable/user_guide/indexing.html#returning-a-view-versus-a-copy\n",
      "  df['Join_Date'] = pd.to_datetime(df['Join_Date'], errors='coerce')\n",
      "<ipython-input-114-b372f3240606>:25: SettingWithCopyWarning: \n",
      "A value is trying to be set on a copy of a slice from a DataFrame.\n",
      "Try using .loc[row_indexer,col_indexer] = value instead\n",
      "\n",
      "See the caveats in the documentation: https://pandas.pydata.org/pandas-docs/stable/user_guide/indexing.html#returning-a-view-versus-a-copy\n",
      "  df['Name'] = df['Name'].str.strip()\n",
      "<ipython-input-114-b372f3240606>:34: SettingWithCopyWarning: \n",
      "A value is trying to be set on a copy of a slice from a DataFrame.\n",
      "Try using .loc[row_indexer,col_indexer] = value instead\n",
      "\n",
      "See the caveats in the documentation: https://pandas.pydata.org/pandas-docs/stable/user_guide/indexing.html#returning-a-view-versus-a-copy\n",
      "  df['Experience_Years'] = df['Experience_Years'].apply(lambda x: df['Experience_Years'].median() if x < 0 else x)\n",
      "<ipython-input-114-b372f3240606>:38: SettingWithCopyWarning: \n",
      "A value is trying to be set on a copy of a slice from a DataFrame.\n",
      "Try using .loc[row_indexer,col_indexer] = value instead\n",
      "\n",
      "See the caveats in the documentation: https://pandas.pydata.org/pandas-docs/stable/user_guide/indexing.html#returning-a-view-versus-a-copy\n",
      "  df['Salary'] = (df['Salary'] - df['Salary'].min()) / (df['Salary'].max() - df['Salary'].min())\n"
     ]
    }
   ],
   "source": [
    "import pandas as pd\n",
    "import numpy as np\n",
    "\n",
    "def  clean_and_preprocess_data(df):\n",
    "     \"\"\"Cleans and preprocesses the dataset by handling duplicates, missing values, \n",
    "      inconsistent data, negative values, and encoding categorical variables.\"\"\"\n",
    "    \n",
    "    # 1. Remove duplicate IDs, keeping the first occurrence\n",
    "   # df = pd.DataFrame(data)\n",
    "     df = df.drop_duplicates(subset=['ID'], keep='first')\n",
    "\n",
    "    # 2. Handle missing values  \n",
    "     df['Age'].fillna(df['Age'].median(), inplace=True)\n",
    "     df['Salary'].fillna(df['Salary'].mean(), inplace=True)\n",
    "     df['Department'].fillna(df['Department'].mode()[0], inplace=True)\n",
    "\n",
    "    # 3. Normalize country names (e.g., USA, usa → USA)\n",
    "     df['Country'] = df['Country'].str.lower().replace({'usa': 'united states', 'canada': 'canada', 'mexico': 'mexico'})\n",
    "\n",
    "    # 4. Fix invalid dates in 'Join_Date'\n",
    "    # Convert, replacing invalid dates with NaT\n",
    "     df['Join_Date'] = pd.to_datetime(df['Join_Date'], errors='coerce')\n",
    "    \n",
    "    # 5. Trim extra spaces in 'Name'\n",
    "     df['Name'] = df['Name'].str.strip()\n",
    "    \n",
    "    # 6. Fix negative values in 'Experience_Years'\n",
    "    #df_cleaned.loc[df_cleaned['Experience_Years'] < 0, 'Experience_Years'] = df_cleaned['Experience_Years'].median()\n",
    "    # by taking absolute values\n",
    "    #df_cleaned['Experience_Years'] = df_cleaned['Experience_Years'].apply(lambda x: abs(x) if x < 0 else x)\n",
    "    #Replace negatives with zero\n",
    "    #df_cleaned['Experience_Years'] = df_cleaned['Experience_Years'].apply(lambda x: 0 if x < 0 else x)\n",
    "    #Replace negatives with median\n",
    "     df['Experience_Years'] = df['Experience_Years'].apply(lambda x: df['Experience_Years'].median() if x < 0 else x)\n",
    "\n",
    "    \n",
    "    # 7. Normalize 'Salary' using Min-Max Scaling\n",
    "     df['Salary'] = (df['Salary'] - df['Salary'].min()) / (df['Salary'].max() - df['Salary'].min())\n",
    "    #scaler = MinMaxScaler()\n",
    "    #df['Salary'] = scaler.fit_transform(df[['Salary']])\n",
    "\n",
    "    # 8. One-hot encode 'Department'\n",
    "     df = pd.get_dummies(df, columns=['Department'], prefix='Dept')\n",
    "\n",
    "     return df\n",
    "\n",
    "# Example usage:\n",
    "df_cleaned = clean_and_preprocess_data(df)\n",
    "\n",
    "\n",
    "# Display cleaned DataFrame\n",
    "print(df_cleaned)\n"
   ]
  },
  {
   "cell_type": "code",
   "execution_count": 106,
   "id": "b9f8a048",
   "metadata": {},
   "outputs": [
    {
     "name": "stdout",
     "output_type": "stream",
     "text": [
      "    ID     Name   Age    Salary  Join_Date        Country  Experience_Years  \\\n",
      "0  101    Alice  25.0  0.142857 2021-01-10  united states               3.0   \n",
      "1  102      Bob  29.5  0.428571 2020-12-05  united states               4.0   \n",
      "2  103  Charlie  30.0  0.428571 2021-03-15  united states               5.0   \n",
      "3  104    David  45.0  1.000000 2020-11-25         canada              10.0   \n",
      "4  105      Eve  29.0  0.000000 2021-07-19         canada               4.0   \n",
      "5  106    Frank  35.0  0.714286 2021-02-22         mexico               7.0   \n",
      "6  107    Grace  27.0  0.285714        NaT         mexico               3.0   \n",
      "\n",
      "   Dept_Finance  Dept_HR  Dept_IT  \n",
      "0             0        1        0  \n",
      "1             0        0        1  \n",
      "2             0        1        0  \n",
      "3             1        0        0  \n",
      "4             0        0        1  \n",
      "5             1        0        0  \n",
      "6             1        0        0  \n"
     ]
    }
   ],
   "source": [
    "import pandas as pd\n",
    "import numpy as np\n",
    "\n",
    "def clean_and_preprocess_data(df):\n",
    "    \"\"\"Cleans and preprocesses the dataset by handling duplicates, missing values, \n",
    "    inconsistent data, negative values, and encoding categorical variables.\"\"\"\n",
    "    \n",
    "    # 1. Remove duplicate IDs, keeping the first occurrence\n",
    "    df = df.drop_duplicates(subset=['ID'], keep='first').copy()\n",
    "\n",
    "    # 2. Handle missing values  \n",
    "    df['Age'].fillna(df['Age'].median(), inplace=True)\n",
    "    df['Salary'].fillna(df['Salary'].mean(), inplace=True)\n",
    "    df['Department'].fillna(df['Department'].mode()[0], inplace=True)\n",
    "\n",
    "    # 3. Normalize country names (e.g., USA, usa → United States)\n",
    "    df['Country'] = df['Country'].str.lower().replace({\n",
    "        'usa': 'united states', \n",
    "        'united states': 'united states',\n",
    "        'canada': 'canada', \n",
    "        'mexico': 'mexico'\n",
    "    })\n",
    "\n",
    "    # 4. Fix invalid dates in 'Join_Date' (convert and replace invalid dates with NaT)\n",
    "    df['Join_Date'] = pd.to_datetime(df['Join_Date'], errors='coerce')\n",
    "    \n",
    "    # 5. Trim extra spaces in 'Name'\n",
    "    df['Name'] = df['Name'].str.strip()\n",
    "    \n",
    "    # 6. Fix negative values in 'Experience_Years' by replacing with median\n",
    "    df['Experience_Years'] = df['Experience_Years'].apply(\n",
    "        lambda x: df['Experience_Years'].median() if x < 0 else x\n",
    "    )\n",
    "\n",
    "    # 7. Normalize 'Salary' using Min-Max Scaling\n",
    "    df['Salary'] = (df['Salary'] - df['Salary'].min()) / (df['Salary'].max() - df['Salary'].min())\n",
    "\n",
    "    # 8. One-hot encode 'Department'\n",
    "    df = pd.get_dummies(df, columns=['Department'], prefix='Dept')\n",
    "\n",
    "    return df\n",
    "\n",
    "# Example usage:\n",
    "df_cleaned = clean_and_preprocess_data(df)\n",
    "\n",
    "# Display cleaned DataFrame\n",
    "print(df_cleaned)\n"
   ]
  },
  {
   "cell_type": "code",
   "execution_count": null,
   "id": "2182da0c",
   "metadata": {},
   "outputs": [],
   "source": []
  }
 ],
 "metadata": {
  "kernelspec": {
   "display_name": "Python 3",
   "language": "python",
   "name": "python3"
  },
  "language_info": {
   "codemirror_mode": {
    "name": "ipython",
    "version": 3
   },
   "file_extension": ".py",
   "mimetype": "text/x-python",
   "name": "python",
   "nbconvert_exporter": "python",
   "pygments_lexer": "ipython3",
   "version": "3.8.8"
  }
 },
 "nbformat": 4,
 "nbformat_minor": 5
}
