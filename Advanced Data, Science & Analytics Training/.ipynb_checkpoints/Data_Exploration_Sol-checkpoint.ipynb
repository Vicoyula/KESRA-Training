{
 "cells": [
  {
   "cell_type": "markdown",
   "id": "889a274b-e35c-4a4a-b05e-5152d84ad16b",
   "metadata": {},
   "source": [
    "# Data Exploration"
   ]
  },
  {
   "cell_type": "code",
   "execution_count": 2,
   "id": "9d541cdd-b975-4cd3-ac89-9130bff1f479",
   "metadata": {},
   "outputs": [
    {
     "name": "stdout",
     "output_type": "stream",
     "text": [
      "  taxpayer_id    taxpayer_name    region         sector taxpayer_type  \\\n",
      "0  KE75682867       Nina Quinn   Nairobi         Retail    Individual   \n",
      "1  KE66755036     Roger Thomas    Nakuru         Retail    Individual   \n",
      "2  KE66882282        Gina Yang  Machakos         Health    Individual   \n",
      "3  KE31081788    James Wheeler    Nakuru  Manufacturing     Corporate   \n",
      "4  KE23315092  Michael Goodwin     Thika    Agriculture    Individual   \n",
      "\n",
      "   tax_paid  VAT_paid  income_tax_paid  corporate_tax_paid registration_date  \\\n",
      "0     81153     52578            54428              108036        2021-04-30   \n",
      "1    240128     80025            35870              116525        2020-02-27   \n",
      "2     80388     33658           105547               85679        2018-06-20   \n",
      "3     36401      7852            51067              125829        2021-03-22   \n",
      "4    207903     95986           191657              128216        2018-04-15   \n",
      "\n",
      "  compliance_status  \n",
      "0         Compliant  \n",
      "1         Compliant  \n",
      "2         Compliant  \n",
      "3         Compliant  \n",
      "4         Compliant  \n"
     ]
    }
   ],
   "source": [
    "import pandas as pd\n",
    "\n",
    "# Load an Excel file\n",
    "df = pd.read_excel(\"KRA_Sample_Dataset.xlsx\", sheet_name=\"Sheet1\")\n",
    "\n",
    "# Display first few rows\n",
    "print(df.head())\n"
   ]
  },
  {
   "cell_type": "code",
   "execution_count": 4,
   "id": "76b0784f-28f2-494d-81d5-20721abdfa73",
   "metadata": {},
   "outputs": [
    {
     "name": "stdout",
     "output_type": "stream",
     "text": [
      "    taxpayer_id     taxpayer_name    region        sector taxpayer_type  \\\n",
      "995  KE60676914     Caitlyn Burns     Nyeri     Transport    Individual   \n",
      "996  KE36704425  Stephen Gonzalez  Kakamega        Retail    Individual   \n",
      "997  KE71298111   Laurie Valencia     Nyeri   Hospitality    Individual   \n",
      "998  KE55014515      Anita Farmer  Kakamega  Construction    Individual   \n",
      "999  KE64869006  Jonathan Carlson      Meru  Construction    Individual   \n",
      "\n",
      "     tax_paid  VAT_paid  income_tax_paid  corporate_tax_paid  \\\n",
      "995     26253     95108           119269               45436   \n",
      "996    462382      3204           199701               11569   \n",
      "997    184635     93769            82764              144101   \n",
      "998    162462     88265           153956               22490   \n",
      "999    355808     32131           158255               45875   \n",
      "\n",
      "    registration_date compliance_status  \n",
      "995        2017-02-16     Non-Compliant  \n",
      "996        2023-01-05         Compliant  \n",
      "997        2018-09-30         Compliant  \n",
      "998        2024-05-29         Compliant  \n",
      "999        2022-09-16         Compliant  \n"
     ]
    }
   ],
   "source": [
    "# Display the last few rows\n",
    "print(df.tail())"
   ]
  },
  {
   "cell_type": "code",
   "execution_count": 3,
   "id": "dd9a08d4-2b03-4b5c-86e7-2d8c91e70a71",
   "metadata": {},
   "outputs": [
    {
     "name": "stdout",
     "output_type": "stream",
     "text": [
      "<class 'pandas.core.frame.DataFrame'>\n",
      "RangeIndex: 1000 entries, 0 to 999\n",
      "Data columns (total 11 columns):\n",
      " #   Column              Non-Null Count  Dtype         \n",
      "---  ------              --------------  -----         \n",
      " 0   taxpayer_id         1000 non-null   object        \n",
      " 1   taxpayer_name       1000 non-null   object        \n",
      " 2   region              1000 non-null   object        \n",
      " 3   sector              1000 non-null   object        \n",
      " 4   taxpayer_type       1000 non-null   object        \n",
      " 5   tax_paid            1000 non-null   int64         \n",
      " 6   VAT_paid            1000 non-null   int64         \n",
      " 7   income_tax_paid     1000 non-null   int64         \n",
      " 8   corporate_tax_paid  1000 non-null   int64         \n",
      " 9   registration_date   1000 non-null   datetime64[ns]\n",
      " 10  compliance_status   1000 non-null   object        \n",
      "dtypes: datetime64[ns](1), int64(4), object(6)\n",
      "memory usage: 86.1+ KB\n",
      "None\n"
     ]
    }
   ],
   "source": [
    "# Geting basic information\n",
    "print (df.info())"
   ]
  },
  {
   "cell_type": "code",
   "execution_count": 5,
   "id": "55d32f5a-4900-406e-941d-7b0feeaa657b",
   "metadata": {},
   "outputs": [
    {
     "name": "stdout",
     "output_type": "stream",
     "text": [
      "            tax_paid      VAT_paid  income_tax_paid  corporate_tax_paid  \\\n",
      "count    1000.000000   1000.000000      1000.000000         1000.000000   \n",
      "mean   238575.992000  49667.325000    101107.975000        75225.576000   \n",
      "min      5781.000000   1138.000000      2174.000000          287.000000   \n",
      "25%    114655.000000  23775.250000     49744.250000        39152.750000   \n",
      "50%    228613.000000  50829.500000    101776.000000        75553.000000   \n",
      "75%    360742.250000  75041.000000    151738.250000       111578.250000   \n",
      "max    498948.000000  99826.000000    199971.000000       149888.000000   \n",
      "std    143964.174834  28633.449716     57481.637667        43017.255093   \n",
      "\n",
      "                registration_date  \n",
      "count                        1000  \n",
      "mean   2020-04-06 08:51:21.600000  \n",
      "min           2015-02-12 00:00:00  \n",
      "25%           2017-08-15 06:00:00  \n",
      "50%           2020-07-16 00:00:00  \n",
      "75%           2022-11-01 00:00:00  \n",
      "max           2025-02-11 00:00:00  \n",
      "std                           NaN  \n"
     ]
    }
   ],
   "source": [
    "# Statistics summary\n",
    "print(df.describe())"
   ]
  },
  {
   "cell_type": "code",
   "execution_count": 6,
   "id": "7715c7fa-d92a-4ee8-8be2-fdc2f35a4dd9",
   "metadata": {},
   "outputs": [
    {
     "name": "stdout",
     "output_type": "stream",
     "text": [
      "(1000, 11)\n"
     ]
    }
   ],
   "source": [
    "# Rows and columns count\n",
    "print(df.shape)"
   ]
  },
  {
   "cell_type": "code",
   "execution_count": 7,
   "id": "30816a7d-7769-4869-a3f3-bace2cb002a8",
   "metadata": {},
   "outputs": [
    {
     "name": "stdout",
     "output_type": "stream",
     "text": [
      "Index(['taxpayer_id', 'taxpayer_name', 'region', 'sector', 'taxpayer_type',\n",
      "       'tax_paid', 'VAT_paid', 'income_tax_paid', 'corporate_tax_paid',\n",
      "       'registration_date', 'compliance_status'],\n",
      "      dtype='object')\n"
     ]
    }
   ],
   "source": [
    "# List column names\n",
    "print(df.columns)"
   ]
  },
  {
   "cell_type": "code",
   "execution_count": 12,
   "id": "e45d5b0f-3649-4150-a84c-a795f8a43a76",
   "metadata": {},
   "outputs": [
    {
     "name": "stdout",
     "output_type": "stream",
     "text": [
      "taxpayer_id                   object\n",
      "taxpayer_name                 object\n",
      "region                        object\n",
      "sector                        object\n",
      "taxpayer_type                 object\n",
      "tax_paid                       int64\n",
      "VAT_paid                       int64\n",
      "income_tax_paid                int64\n",
      "corporate_tax_paid             int64\n",
      "registration_date     datetime64[ns]\n",
      "compliance_status             object\n",
      "dtype: object\n"
     ]
    }
   ],
   "source": [
    "# Data types of each column\n",
    "print (df.dtypes)"
   ]
  },
  {
   "cell_type": "code",
   "execution_count": 45,
   "id": "c42f7ba6-2b59-4dc1-b255-4488eb318ca2",
   "metadata": {},
   "outputs": [
    {
     "name": "stdout",
     "output_type": "stream",
     "text": [
      "\n",
      "Unique values in region:\n",
      "region\n",
      "Mombasa     110\n",
      "Nairobi     105\n",
      "Meru        103\n",
      "Kakamega    101\n",
      "Thika       100\n",
      "Nyeri       100\n",
      "Eldoret     100\n",
      "Machakos     97\n",
      "Nakuru       93\n",
      "Kisumu       91\n",
      "Name: count, dtype: int64\n",
      "\n",
      "Unique values in sector:\n",
      "sector\n",
      "Education        123\n",
      "Manufacturing    110\n",
      "Hospitality      106\n",
      "Retail           102\n",
      "Construction     100\n",
      "Transport         97\n",
      "IT & Tech         95\n",
      "Agriculture       90\n",
      "Finance           89\n",
      "Health            88\n",
      "Name: count, dtype: int64\n",
      "\n",
      "Unique values in taxpayer_type:\n",
      "taxpayer_type\n",
      "Individual    604\n",
      "SME           290\n",
      "Corporate     106\n",
      "Name: count, dtype: int64\n",
      "\n",
      "Unique values in compliance_status:\n",
      "compliance_status\n",
      "Compliant        795\n",
      "Non-Compliant    205\n",
      "Name: count, dtype: int64\n"
     ]
    }
   ],
   "source": [
    "# Count of unique values per categorical column\n",
    "categorical_columns = [\"region\", \"sector\", \"taxpayer_type\", \"compliance_status\"]\n",
    "for col in categorical_columns:\n",
    "    print(f\"\\nUnique values in {col}:\")\n",
    "    print(df[col].value_counts())"
   ]
  },
  {
   "cell_type": "markdown",
   "id": "9fd1f697-b8ee-4ed5-9642-693248c662f2",
   "metadata": {},
   "source": [
    "# Selecting and filtering Data"
   ]
  },
  {
   "cell_type": "code",
   "execution_count": 15,
   "id": "e35d5c9c-1583-4fe4-8889-fdc3466574d6",
   "metadata": {},
   "outputs": [
    {
     "name": "stdout",
     "output_type": "stream",
     "text": [
      "0       81153\n",
      "1      240128\n",
      "2       80388\n",
      "3       36401\n",
      "4      207903\n",
      "        ...  \n",
      "995     26253\n",
      "996    462382\n",
      "997    184635\n",
      "998    162462\n",
      "999    355808\n",
      "Name: tax_paid, Length: 1000, dtype: int64\n"
     ]
    }
   ],
   "source": [
    "# Select columns\n",
    "print (df['tax_paid'])\n",
    "df2 = (df['tax_paid'])"
   ]
  },
  {
   "cell_type": "code",
   "execution_count": 20,
   "id": "f08837b4-c471-40d8-bf6c-5bcf275c76c8",
   "metadata": {},
   "outputs": [
    {
     "name": "stdout",
     "output_type": "stream",
     "text": [
      "     tax_paid    region\n",
      "0       81153   Nairobi\n",
      "1      240128    Nakuru\n",
      "2       80388  Machakos\n",
      "3       36401    Nakuru\n",
      "4      207903     Thika\n",
      "..        ...       ...\n",
      "995     26253     Nyeri\n",
      "996    462382  Kakamega\n",
      "997    184635     Nyeri\n",
      "998    162462  Kakamega\n",
      "999    355808      Meru\n",
      "\n",
      "[1000 rows x 2 columns]\n"
     ]
    }
   ],
   "source": [
    "# Select multiple columns\n",
    "df3 = df[['tax_paid','region']]\n",
    "print(df3)"
   ]
  },
  {
   "cell_type": "code",
   "execution_count": 21,
   "id": "5e56738b-d888-429d-954b-32ccd3af3753",
   "metadata": {},
   "outputs": [
    {
     "name": "stdout",
     "output_type": "stream",
     "text": [
      "taxpayer_id                    KE21506305\n",
      "taxpayer_name                David Powell\n",
      "region                           Machakos\n",
      "sector                          IT & Tech\n",
      "taxpayer_type                  Individual\n",
      "tax_paid                           233590\n",
      "VAT_paid                            29365\n",
      "income_tax_paid                    197575\n",
      "corporate_tax_paid                  36683\n",
      "registration_date     2017-05-04 00:00:00\n",
      "compliance_status               Compliant\n",
      "Name: 200, dtype: object\n"
     ]
    }
   ],
   "source": [
    "# Select row by index label \n",
    "print(df.loc[200])"
   ]
  },
  {
   "cell_type": "code",
   "execution_count": 23,
   "id": "eac7793f-5fa9-4eae-a6d7-75b493ecd640",
   "metadata": {},
   "outputs": [
    {
     "name": "stdout",
     "output_type": "stream",
     "text": [
      "taxpayer_id                    KE21506305\n",
      "taxpayer_name                David Powell\n",
      "region                           Machakos\n",
      "sector                          IT & Tech\n",
      "taxpayer_type                  Individual\n",
      "tax_paid                           233590\n",
      "VAT_paid                            29365\n",
      "income_tax_paid                    197575\n",
      "corporate_tax_paid                  36683\n",
      "registration_date     2017-05-04 00:00:00\n",
      "compliance_status               Compliant\n",
      "Name: 200, dtype: object\n"
     ]
    }
   ],
   "source": [
    "# Select row by integer position\n",
    "print(df.iloc[200])"
   ]
  },
  {
   "cell_type": "markdown",
   "id": "1b951f42-832f-467e-aa8d-f42be08d7f10",
   "metadata": {},
   "source": [
    "# Filtering and Sorting"
   ]
  },
  {
   "cell_type": "code",
   "execution_count": 26,
   "id": "f2588a84-2704-4474-8c1e-0e65566a3dfe",
   "metadata": {},
   "outputs": [
    {
     "data": {
      "text/html": [
       "<div>\n",
       "<style scoped>\n",
       "    .dataframe tbody tr th:only-of-type {\n",
       "        vertical-align: middle;\n",
       "    }\n",
       "\n",
       "    .dataframe tbody tr th {\n",
       "        vertical-align: top;\n",
       "    }\n",
       "\n",
       "    .dataframe thead th {\n",
       "        text-align: right;\n",
       "    }\n",
       "</style>\n",
       "<table border=\"1\" class=\"dataframe\">\n",
       "  <thead>\n",
       "    <tr style=\"text-align: right;\">\n",
       "      <th></th>\n",
       "      <th>taxpayer_id</th>\n",
       "      <th>taxpayer_name</th>\n",
       "      <th>region</th>\n",
       "      <th>sector</th>\n",
       "      <th>taxpayer_type</th>\n",
       "      <th>tax_paid</th>\n",
       "      <th>VAT_paid</th>\n",
       "      <th>income_tax_paid</th>\n",
       "      <th>corporate_tax_paid</th>\n",
       "      <th>registration_date</th>\n",
       "      <th>compliance_status</th>\n",
       "    </tr>\n",
       "  </thead>\n",
       "  <tbody>\n",
       "    <tr>\n",
       "      <th>1</th>\n",
       "      <td>KE66755036</td>\n",
       "      <td>Roger Thomas</td>\n",
       "      <td>Nakuru</td>\n",
       "      <td>Retail</td>\n",
       "      <td>Individual</td>\n",
       "      <td>240128</td>\n",
       "      <td>80025</td>\n",
       "      <td>35870</td>\n",
       "      <td>116525</td>\n",
       "      <td>2020-02-27</td>\n",
       "      <td>Compliant</td>\n",
       "    </tr>\n",
       "    <tr>\n",
       "      <th>4</th>\n",
       "      <td>KE23315092</td>\n",
       "      <td>Michael Goodwin</td>\n",
       "      <td>Thika</td>\n",
       "      <td>Agriculture</td>\n",
       "      <td>Individual</td>\n",
       "      <td>207903</td>\n",
       "      <td>95986</td>\n",
       "      <td>191657</td>\n",
       "      <td>128216</td>\n",
       "      <td>2018-04-15</td>\n",
       "      <td>Compliant</td>\n",
       "    </tr>\n",
       "    <tr>\n",
       "      <th>6</th>\n",
       "      <td>KE36735830</td>\n",
       "      <td>Joseph Cortez</td>\n",
       "      <td>Nairobi</td>\n",
       "      <td>Agriculture</td>\n",
       "      <td>SME</td>\n",
       "      <td>237601</td>\n",
       "      <td>72947</td>\n",
       "      <td>154679</td>\n",
       "      <td>65901</td>\n",
       "      <td>2023-09-23</td>\n",
       "      <td>Compliant</td>\n",
       "    </tr>\n",
       "    <tr>\n",
       "      <th>9</th>\n",
       "      <td>KE98358551</td>\n",
       "      <td>John Crawford</td>\n",
       "      <td>Nairobi</td>\n",
       "      <td>Agriculture</td>\n",
       "      <td>Corporate</td>\n",
       "      <td>256459</td>\n",
       "      <td>52707</td>\n",
       "      <td>144980</td>\n",
       "      <td>90012</td>\n",
       "      <td>2021-11-03</td>\n",
       "      <td>Compliant</td>\n",
       "    </tr>\n",
       "    <tr>\n",
       "      <th>12</th>\n",
       "      <td>KE23953367</td>\n",
       "      <td>Jason Tanner</td>\n",
       "      <td>Mombasa</td>\n",
       "      <td>Manufacturing</td>\n",
       "      <td>Individual</td>\n",
       "      <td>454042</td>\n",
       "      <td>76939</td>\n",
       "      <td>63215</td>\n",
       "      <td>102476</td>\n",
       "      <td>2023-03-06</td>\n",
       "      <td>Compliant</td>\n",
       "    </tr>\n",
       "  </tbody>\n",
       "</table>\n",
       "</div>"
      ],
      "text/plain": [
       "   taxpayer_id    taxpayer_name   region         sector taxpayer_type  \\\n",
       "1   KE66755036     Roger Thomas   Nakuru         Retail    Individual   \n",
       "4   KE23315092  Michael Goodwin    Thika    Agriculture    Individual   \n",
       "6   KE36735830    Joseph Cortez  Nairobi    Agriculture           SME   \n",
       "9   KE98358551    John Crawford  Nairobi    Agriculture     Corporate   \n",
       "12  KE23953367     Jason Tanner  Mombasa  Manufacturing    Individual   \n",
       "\n",
       "    tax_paid  VAT_paid  income_tax_paid  corporate_tax_paid registration_date  \\\n",
       "1     240128     80025            35870              116525        2020-02-27   \n",
       "4     207903     95986           191657              128216        2018-04-15   \n",
       "6     237601     72947           154679               65901        2023-09-23   \n",
       "9     256459     52707           144980               90012        2021-11-03   \n",
       "12    454042     76939            63215              102476        2023-03-06   \n",
       "\n",
       "   compliance_status  \n",
       "1          Compliant  \n",
       "4          Compliant  \n",
       "6          Compliant  \n",
       "9          Compliant  \n",
       "12         Compliant  "
      ]
     },
     "execution_count": 26,
     "metadata": {},
     "output_type": "execute_result"
    }
   ],
   "source": [
    "# taxpayers who paid more than KES 200,000\n",
    "high_tax_payers = df[df[\"tax_paid\"] > 200000] \n",
    "high_tax_payers.head()"
   ]
  },
  {
   "cell_type": "code",
   "execution_count": 27,
   "id": "dfae00bb-02aa-4dd2-bac4-fed9f7a6344e",
   "metadata": {},
   "outputs": [
    {
     "data": {
      "text/html": [
       "<div>\n",
       "<style scoped>\n",
       "    .dataframe tbody tr th:only-of-type {\n",
       "        vertical-align: middle;\n",
       "    }\n",
       "\n",
       "    .dataframe tbody tr th {\n",
       "        vertical-align: top;\n",
       "    }\n",
       "\n",
       "    .dataframe thead th {\n",
       "        text-align: right;\n",
       "    }\n",
       "</style>\n",
       "<table border=\"1\" class=\"dataframe\">\n",
       "  <thead>\n",
       "    <tr style=\"text-align: right;\">\n",
       "      <th></th>\n",
       "      <th>taxpayer_id</th>\n",
       "      <th>taxpayer_name</th>\n",
       "      <th>region</th>\n",
       "      <th>sector</th>\n",
       "      <th>taxpayer_type</th>\n",
       "      <th>tax_paid</th>\n",
       "      <th>VAT_paid</th>\n",
       "      <th>income_tax_paid</th>\n",
       "      <th>corporate_tax_paid</th>\n",
       "      <th>registration_date</th>\n",
       "      <th>compliance_status</th>\n",
       "    </tr>\n",
       "  </thead>\n",
       "  <tbody>\n",
       "    <tr>\n",
       "      <th>987</th>\n",
       "      <td>KE62840397</td>\n",
       "      <td>Jacob Hernandez</td>\n",
       "      <td>Nairobi</td>\n",
       "      <td>Construction</td>\n",
       "      <td>Individual</td>\n",
       "      <td>280709</td>\n",
       "      <td>28606</td>\n",
       "      <td>153396</td>\n",
       "      <td>11350</td>\n",
       "      <td>2024-06-23</td>\n",
       "      <td>Non-Compliant</td>\n",
       "    </tr>\n",
       "    <tr>\n",
       "      <th>990</th>\n",
       "      <td>KE54132455</td>\n",
       "      <td>Matthew Sellers</td>\n",
       "      <td>Machakos</td>\n",
       "      <td>Education</td>\n",
       "      <td>Individual</td>\n",
       "      <td>358323</td>\n",
       "      <td>80303</td>\n",
       "      <td>149616</td>\n",
       "      <td>97557</td>\n",
       "      <td>2023-08-22</td>\n",
       "      <td>Compliant</td>\n",
       "    </tr>\n",
       "    <tr>\n",
       "      <th>992</th>\n",
       "      <td>KE20016389</td>\n",
       "      <td>Rebecca Rodriguez</td>\n",
       "      <td>Thika</td>\n",
       "      <td>Finance</td>\n",
       "      <td>Individual</td>\n",
       "      <td>448945</td>\n",
       "      <td>63522</td>\n",
       "      <td>31063</td>\n",
       "      <td>17576</td>\n",
       "      <td>2019-01-10</td>\n",
       "      <td>Compliant</td>\n",
       "    </tr>\n",
       "    <tr>\n",
       "      <th>996</th>\n",
       "      <td>KE36704425</td>\n",
       "      <td>Stephen Gonzalez</td>\n",
       "      <td>Kakamega</td>\n",
       "      <td>Retail</td>\n",
       "      <td>Individual</td>\n",
       "      <td>462382</td>\n",
       "      <td>3204</td>\n",
       "      <td>199701</td>\n",
       "      <td>11569</td>\n",
       "      <td>2023-01-05</td>\n",
       "      <td>Compliant</td>\n",
       "    </tr>\n",
       "    <tr>\n",
       "      <th>999</th>\n",
       "      <td>KE64869006</td>\n",
       "      <td>Jonathan Carlson</td>\n",
       "      <td>Meru</td>\n",
       "      <td>Construction</td>\n",
       "      <td>Individual</td>\n",
       "      <td>355808</td>\n",
       "      <td>32131</td>\n",
       "      <td>158255</td>\n",
       "      <td>45875</td>\n",
       "      <td>2022-09-16</td>\n",
       "      <td>Compliant</td>\n",
       "    </tr>\n",
       "  </tbody>\n",
       "</table>\n",
       "</div>"
      ],
      "text/plain": [
       "    taxpayer_id      taxpayer_name    region        sector taxpayer_type  \\\n",
       "987  KE62840397    Jacob Hernandez   Nairobi  Construction    Individual   \n",
       "990  KE54132455    Matthew Sellers  Machakos     Education    Individual   \n",
       "992  KE20016389  Rebecca Rodriguez     Thika       Finance    Individual   \n",
       "996  KE36704425   Stephen Gonzalez  Kakamega        Retail    Individual   \n",
       "999  KE64869006   Jonathan Carlson      Meru  Construction    Individual   \n",
       "\n",
       "     tax_paid  VAT_paid  income_tax_paid  corporate_tax_paid  \\\n",
       "987    280709     28606           153396               11350   \n",
       "990    358323     80303           149616               97557   \n",
       "992    448945     63522            31063               17576   \n",
       "996    462382      3204           199701               11569   \n",
       "999    355808     32131           158255               45875   \n",
       "\n",
       "    registration_date compliance_status  \n",
       "987        2024-06-23     Non-Compliant  \n",
       "990        2023-08-22         Compliant  \n",
       "992        2019-01-10         Compliant  \n",
       "996        2023-01-05         Compliant  \n",
       "999        2022-09-16         Compliant  "
      ]
     },
     "execution_count": 27,
     "metadata": {},
     "output_type": "execute_result"
    }
   ],
   "source": [
    "high_tax_payers.tail()"
   ]
  },
  {
   "cell_type": "code",
   "execution_count": 29,
   "id": "737c2774-f601-4fef-8222-e918a791c4b9",
   "metadata": {},
   "outputs": [
    {
     "data": {
      "text/plain": [
       "(555, 11)"
      ]
     },
     "execution_count": 29,
     "metadata": {},
     "output_type": "execute_result"
    }
   ],
   "source": [
    "high_tax_payers.shape"
   ]
  },
  {
   "cell_type": "code",
   "execution_count": 31,
   "id": "1b8e30aa-4728-42e7-ade6-fd9c9cf3bcf6",
   "metadata": {},
   "outputs": [
    {
     "data": {
      "text/html": [
       "<div>\n",
       "<style scoped>\n",
       "    .dataframe tbody tr th:only-of-type {\n",
       "        vertical-align: middle;\n",
       "    }\n",
       "\n",
       "    .dataframe tbody tr th {\n",
       "        vertical-align: top;\n",
       "    }\n",
       "\n",
       "    .dataframe thead th {\n",
       "        text-align: right;\n",
       "    }\n",
       "</style>\n",
       "<table border=\"1\" class=\"dataframe\">\n",
       "  <thead>\n",
       "    <tr style=\"text-align: right;\">\n",
       "      <th></th>\n",
       "      <th>taxpayer_id</th>\n",
       "      <th>taxpayer_name</th>\n",
       "      <th>region</th>\n",
       "      <th>sector</th>\n",
       "      <th>taxpayer_type</th>\n",
       "      <th>tax_paid</th>\n",
       "      <th>VAT_paid</th>\n",
       "      <th>income_tax_paid</th>\n",
       "      <th>corporate_tax_paid</th>\n",
       "      <th>registration_date</th>\n",
       "      <th>compliance_status</th>\n",
       "    </tr>\n",
       "  </thead>\n",
       "  <tbody>\n",
       "    <tr>\n",
       "      <th>104</th>\n",
       "      <td>KE73203558</td>\n",
       "      <td>David Hernandez</td>\n",
       "      <td>Meru</td>\n",
       "      <td>Health</td>\n",
       "      <td>SME</td>\n",
       "      <td>498948</td>\n",
       "      <td>26556</td>\n",
       "      <td>130389</td>\n",
       "      <td>116545</td>\n",
       "      <td>2022-06-29</td>\n",
       "      <td>Compliant</td>\n",
       "    </tr>\n",
       "    <tr>\n",
       "      <th>762</th>\n",
       "      <td>KE20320855</td>\n",
       "      <td>Michael Moore</td>\n",
       "      <td>Kisumu</td>\n",
       "      <td>Manufacturing</td>\n",
       "      <td>Individual</td>\n",
       "      <td>498253</td>\n",
       "      <td>24782</td>\n",
       "      <td>46942</td>\n",
       "      <td>84149</td>\n",
       "      <td>2025-01-25</td>\n",
       "      <td>Compliant</td>\n",
       "    </tr>\n",
       "    <tr>\n",
       "      <th>318</th>\n",
       "      <td>KE89688895</td>\n",
       "      <td>Annette Jackson</td>\n",
       "      <td>Kisumu</td>\n",
       "      <td>Construction</td>\n",
       "      <td>Individual</td>\n",
       "      <td>498158</td>\n",
       "      <td>30033</td>\n",
       "      <td>54874</td>\n",
       "      <td>13233</td>\n",
       "      <td>2024-06-24</td>\n",
       "      <td>Compliant</td>\n",
       "    </tr>\n",
       "    <tr>\n",
       "      <th>49</th>\n",
       "      <td>KE83506850</td>\n",
       "      <td>Dustin Bradley</td>\n",
       "      <td>Eldoret</td>\n",
       "      <td>IT &amp; Tech</td>\n",
       "      <td>Individual</td>\n",
       "      <td>497289</td>\n",
       "      <td>6906</td>\n",
       "      <td>115000</td>\n",
       "      <td>70014</td>\n",
       "      <td>2020-03-23</td>\n",
       "      <td>Compliant</td>\n",
       "    </tr>\n",
       "    <tr>\n",
       "      <th>916</th>\n",
       "      <td>KE90480036</td>\n",
       "      <td>Theresa Hughes</td>\n",
       "      <td>Machakos</td>\n",
       "      <td>Education</td>\n",
       "      <td>Individual</td>\n",
       "      <td>497092</td>\n",
       "      <td>81098</td>\n",
       "      <td>37931</td>\n",
       "      <td>2035</td>\n",
       "      <td>2016-01-28</td>\n",
       "      <td>Compliant</td>\n",
       "    </tr>\n",
       "  </tbody>\n",
       "</table>\n",
       "</div>"
      ],
      "text/plain": [
       "    taxpayer_id    taxpayer_name    region         sector taxpayer_type  \\\n",
       "104  KE73203558  David Hernandez      Meru         Health           SME   \n",
       "762  KE20320855    Michael Moore    Kisumu  Manufacturing    Individual   \n",
       "318  KE89688895  Annette Jackson    Kisumu   Construction    Individual   \n",
       "49   KE83506850   Dustin Bradley   Eldoret      IT & Tech    Individual   \n",
       "916  KE90480036   Theresa Hughes  Machakos      Education    Individual   \n",
       "\n",
       "     tax_paid  VAT_paid  income_tax_paid  corporate_tax_paid  \\\n",
       "104    498948     26556           130389              116545   \n",
       "762    498253     24782            46942               84149   \n",
       "318    498158     30033            54874               13233   \n",
       "49     497289      6906           115000               70014   \n",
       "916    497092     81098            37931                2035   \n",
       "\n",
       "    registration_date compliance_status  \n",
       "104        2022-06-29         Compliant  \n",
       "762        2025-01-25         Compliant  \n",
       "318        2024-06-24         Compliant  \n",
       "49         2020-03-23         Compliant  \n",
       "916        2016-01-28         Compliant  "
      ]
     },
     "execution_count": 31,
     "metadata": {},
     "output_type": "execute_result"
    }
   ],
   "source": [
    "# Sorting by tax paid\n",
    "sorted_tax_payers = df.sort_values(by=\"tax_paid\", ascending=False)  \n",
    "sorted_tax_payers.head()"
   ]
  },
  {
   "cell_type": "code",
   "execution_count": 32,
   "id": "44a40726-153e-48b3-ae9f-43518a0ceac8",
   "metadata": {},
   "outputs": [
    {
     "data": {
      "text/html": [
       "<div>\n",
       "<style scoped>\n",
       "    .dataframe tbody tr th:only-of-type {\n",
       "        vertical-align: middle;\n",
       "    }\n",
       "\n",
       "    .dataframe tbody tr th {\n",
       "        vertical-align: top;\n",
       "    }\n",
       "\n",
       "    .dataframe thead th {\n",
       "        text-align: right;\n",
       "    }\n",
       "</style>\n",
       "<table border=\"1\" class=\"dataframe\">\n",
       "  <thead>\n",
       "    <tr style=\"text-align: right;\">\n",
       "      <th></th>\n",
       "      <th>taxpayer_id</th>\n",
       "      <th>taxpayer_name</th>\n",
       "      <th>region</th>\n",
       "      <th>sector</th>\n",
       "      <th>taxpayer_type</th>\n",
       "      <th>tax_paid</th>\n",
       "      <th>VAT_paid</th>\n",
       "      <th>income_tax_paid</th>\n",
       "      <th>corporate_tax_paid</th>\n",
       "      <th>registration_date</th>\n",
       "      <th>compliance_status</th>\n",
       "    </tr>\n",
       "  </thead>\n",
       "  <tbody>\n",
       "    <tr>\n",
       "      <th>596</th>\n",
       "      <td>KE11286643</td>\n",
       "      <td>Robin Reed</td>\n",
       "      <td>Kakamega</td>\n",
       "      <td>Education</td>\n",
       "      <td>Individual</td>\n",
       "      <td>8754</td>\n",
       "      <td>47840</td>\n",
       "      <td>183561</td>\n",
       "      <td>78537</td>\n",
       "      <td>2016-09-24</td>\n",
       "      <td>Compliant</td>\n",
       "    </tr>\n",
       "    <tr>\n",
       "      <th>411</th>\n",
       "      <td>KE41530803</td>\n",
       "      <td>Jesus Logan</td>\n",
       "      <td>Eldoret</td>\n",
       "      <td>Construction</td>\n",
       "      <td>Individual</td>\n",
       "      <td>8631</td>\n",
       "      <td>20086</td>\n",
       "      <td>127355</td>\n",
       "      <td>105583</td>\n",
       "      <td>2019-07-22</td>\n",
       "      <td>Compliant</td>\n",
       "    </tr>\n",
       "    <tr>\n",
       "      <th>768</th>\n",
       "      <td>KE75377052</td>\n",
       "      <td>Monica Randolph</td>\n",
       "      <td>Mombasa</td>\n",
       "      <td>Construction</td>\n",
       "      <td>Individual</td>\n",
       "      <td>8471</td>\n",
       "      <td>36596</td>\n",
       "      <td>10328</td>\n",
       "      <td>114456</td>\n",
       "      <td>2021-03-14</td>\n",
       "      <td>Non-Compliant</td>\n",
       "    </tr>\n",
       "    <tr>\n",
       "      <th>405</th>\n",
       "      <td>KE10449395</td>\n",
       "      <td>Charles Stone</td>\n",
       "      <td>Nairobi</td>\n",
       "      <td>Transport</td>\n",
       "      <td>SME</td>\n",
       "      <td>8191</td>\n",
       "      <td>11651</td>\n",
       "      <td>6986</td>\n",
       "      <td>25901</td>\n",
       "      <td>2016-05-20</td>\n",
       "      <td>Compliant</td>\n",
       "    </tr>\n",
       "    <tr>\n",
       "      <th>976</th>\n",
       "      <td>KE18351245</td>\n",
       "      <td>Alex Perez</td>\n",
       "      <td>Meru</td>\n",
       "      <td>Health</td>\n",
       "      <td>Individual</td>\n",
       "      <td>5781</td>\n",
       "      <td>34487</td>\n",
       "      <td>119603</td>\n",
       "      <td>35932</td>\n",
       "      <td>2023-10-22</td>\n",
       "      <td>Compliant</td>\n",
       "    </tr>\n",
       "  </tbody>\n",
       "</table>\n",
       "</div>"
      ],
      "text/plain": [
       "    taxpayer_id    taxpayer_name    region        sector taxpayer_type  \\\n",
       "596  KE11286643       Robin Reed  Kakamega     Education    Individual   \n",
       "411  KE41530803      Jesus Logan   Eldoret  Construction    Individual   \n",
       "768  KE75377052  Monica Randolph   Mombasa  Construction    Individual   \n",
       "405  KE10449395    Charles Stone   Nairobi     Transport           SME   \n",
       "976  KE18351245       Alex Perez      Meru        Health    Individual   \n",
       "\n",
       "     tax_paid  VAT_paid  income_tax_paid  corporate_tax_paid  \\\n",
       "596      8754     47840           183561               78537   \n",
       "411      8631     20086           127355              105583   \n",
       "768      8471     36596            10328              114456   \n",
       "405      8191     11651             6986               25901   \n",
       "976      5781     34487           119603               35932   \n",
       "\n",
       "    registration_date compliance_status  \n",
       "596        2016-09-24         Compliant  \n",
       "411        2019-07-22         Compliant  \n",
       "768        2021-03-14     Non-Compliant  \n",
       "405        2016-05-20         Compliant  \n",
       "976        2023-10-22         Compliant  "
      ]
     },
     "execution_count": 32,
     "metadata": {},
     "output_type": "execute_result"
    }
   ],
   "source": [
    "sorted_tax_payers.tail()"
   ]
  },
  {
   "cell_type": "markdown",
   "id": "16a12d7c-4a56-4342-a41e-8c771397a5b1",
   "metadata": {},
   "source": [
    "# String Operations on Data"
   ]
  },
  {
   "cell_type": "code",
   "execution_count": 33,
   "id": "3c4ccd92-5546-43f8-a4b7-ca05944140dc",
   "metadata": {},
   "outputs": [],
   "source": [
    "# Convert names to uppercase\n",
    "df[\"taxpayer_name\"] = df[\"taxpayer_name\"].str.upper()  "
   ]
  },
  {
   "cell_type": "code",
   "execution_count": null,
   "id": "73754817-91f6-442a-bf5e-c64f7a785cc2",
   "metadata": {},
   "outputs": [],
   "source": [
    "# Extract numeric part of ID\n",
    "df_kra[\"taxpayer_pin\"] = df_kra[\"taxpayer_id\"].str.extract(r'KE(\\d+)')  "
   ]
  },
  {
   "cell_type": "markdown",
   "id": "c05930d9-6d08-4053-98fc-8846e24dc06b",
   "metadata": {},
   "source": [
    "# Changing Data Types"
   ]
  },
  {
   "cell_type": "code",
   "execution_count": null,
   "id": "f9b86a9c-f55b-4f0c-bccc-10ccc98ba76f",
   "metadata": {},
   "outputs": [],
   "source": [
    " # Convert to datetime\n",
    "\n",
    "df[\"registration_date\"] = pd.to_datetime(df[\"registration_date\"]) "
   ]
  },
  {
   "cell_type": "code",
   "execution_count": null,
   "id": "18229e83-c663-405b-9a9b-8bf3a900dad2",
   "metadata": {},
   "outputs": [],
   "source": []
  },
  {
   "cell_type": "markdown",
   "id": "0b3c7d3e-8aa2-4527-ac26-770ddbd06942",
   "metadata": {},
   "source": [
    "# Handling Missing Values"
   ]
  },
  {
   "cell_type": "code",
   "execution_count": 34,
   "id": "76bd4e31-7273-4675-a905-bf2829457d5a",
   "metadata": {},
   "outputs": [
    {
     "data": {
      "text/plain": [
       "taxpayer_id           0\n",
       "taxpayer_name         0\n",
       "region                0\n",
       "sector                0\n",
       "taxpayer_type         0\n",
       "tax_paid              0\n",
       "VAT_paid              0\n",
       "income_tax_paid       0\n",
       "corporate_tax_paid    0\n",
       "registration_date     0\n",
       "compliance_status     0\n",
       "dtype: int64"
      ]
     },
     "execution_count": 34,
     "metadata": {},
     "output_type": "execute_result"
    }
   ],
   "source": [
    "# Check missing values\n",
    "missing_values = df.isnull().sum()\n",
    "missing_values"
   ]
  },
  {
   "cell_type": "code",
   "execution_count": 35,
   "id": "167c2262-a03d-4e23-84d5-6a63cd288147",
   "metadata": {},
   "outputs": [
    {
     "name": "stderr",
     "output_type": "stream",
     "text": [
      "C:\\Users\\Fanuel\\AppData\\Local\\Temp\\ipykernel_14052\\3515314445.py:2: FutureWarning: A value is trying to be set on a copy of a DataFrame or Series through chained assignment using an inplace method.\n",
      "The behavior will change in pandas 3.0. This inplace method will never work because the intermediate object on which we are setting values always behaves as a copy.\n",
      "\n",
      "For example, when doing 'df[col].method(value, inplace=True)', try using 'df.method({col: value}, inplace=True)' or df[col] = df[col].method(value) instead, to perform the operation inplace on the original object.\n",
      "\n",
      "\n",
      "  df[\"tax_paid\"].fillna(df[\"tax_paid\"].median(), inplace=True)\n"
     ]
    }
   ],
   "source": [
    "# Fill missing tax values with median\n",
    "df[\"tax_paid\"].fillna(df[\"tax_paid\"].median(), inplace=True)  "
   ]
  },
  {
   "cell_type": "markdown",
   "id": "bf854f7b-51f6-4b87-aa01-025eb226bfd7",
   "metadata": {},
   "source": [
    "# Handling Duplicates"
   ]
  },
  {
   "cell_type": "code",
   "execution_count": 37,
   "id": "d0851ee3-f771-4b3f-bb96-69ffe7b5d2c1",
   "metadata": {},
   "outputs": [
    {
     "data": {
      "text/plain": [
       "0"
      ]
     },
     "execution_count": 37,
     "metadata": {},
     "output_type": "execute_result"
    }
   ],
   "source": [
    "# Count duplicates\n",
    "duplicate_count = df.duplicated().sum()  \n",
    "duplicate_count"
   ]
  },
  {
   "cell_type": "code",
   "execution_count": 38,
   "id": "e64b6cf8-f6b7-4acb-bda8-23d1d12f76d4",
   "metadata": {},
   "outputs": [],
   "source": [
    "# Remove duplicates by taxpayer_id\n",
    "df.drop_duplicates(subset=[\"taxpayer_id\"], keep=\"first\", inplace=True)  "
   ]
  },
  {
   "cell_type": "code",
   "execution_count": null,
   "id": "7e6a8a41-6c49-419e-92a9-268ebf72993d",
   "metadata": {},
   "outputs": [],
   "source": []
  },
  {
   "cell_type": "markdown",
   "id": "f467889e-ae59-4ba3-b2c5-4c626e5fabce",
   "metadata": {},
   "source": [
    "# Aggregating Data"
   ]
  },
  {
   "cell_type": "code",
   "execution_count": 55,
   "id": "ee83a497-507d-47a7-8b0b-226d6d3eedab",
   "metadata": {},
   "outputs": [
    {
     "name": "stdout",
     "output_type": "stream",
     "text": [
      "\n",
      "Tax paid per region:\n",
      "Eldoret = 21503741.00\n",
      "Kakamega = 27815106.00\n",
      "Kisumu = 23358871.00\n",
      "Machakos = 23340658.00\n",
      "Meru = 24895384.00\n",
      "Mombasa = 26315121.00\n",
      "Nairobi = 24329114.00\n",
      "Nakuru = 19975796.00\n",
      "Nyeri = 23556210.00\n",
      "Thika = 23485991.00\n"
     ]
    }
   ],
   "source": [
    "# Total tax per region\n",
    "tax_per_region = df.groupby(\"region\")[\"tax_paid\"].sum() \n",
    "tax_per_region_formatted = tax_per_region.apply(lambda x: f\"{x:.2f}\")\n",
    "formatted_output = '\\n'.join([f\"{region} = {amount}\" for region, amount in tax_per_region_formatted.items()])\n",
    "print(\"\\nTax paid per region:\")\n",
    "print(formatted_output)\n",
    "\n"
   ]
  },
  {
   "cell_type": "code",
   "execution_count": 41,
   "id": "17c99e84-5981-4908-95cb-77f94589caa2",
   "metadata": {},
   "outputs": [
    {
     "data": {
      "text/plain": [
       "sector\n",
       "Agriculture      56299.588889\n",
       "Construction     53058.530000\n",
       "Education        50696.715447\n",
       "Finance          45212.235955\n",
       "Health           47485.625000\n",
       "Hospitality      50703.632075\n",
       "IT & Tech        52549.778947\n",
       "Manufacturing    43295.981818\n",
       "Retail           46996.833333\n",
       "Transport        50857.113402\n",
       "Name: VAT_paid, dtype: float64"
      ]
     },
     "execution_count": 41,
     "metadata": {},
     "output_type": "execute_result"
    }
   ],
   "source": [
    "# Average VAT per sector\n",
    "avg_vat_per_sector = df.groupby(\"sector\")[\"VAT_paid\"].mean() \n",
    "avg_vat_per_sector"
   ]
  },
  {
   "cell_type": "code",
   "execution_count": 40,
   "id": "770261ad-75c5-4a14-a9b3-3e07f9288bfd",
   "metadata": {},
   "outputs": [
    {
     "data": {
      "text/plain": [
       "region\n",
       "Eldoret     100\n",
       "Kakamega    101\n",
       "Kisumu       91\n",
       "Machakos     97\n",
       "Meru        103\n",
       "Mombasa     110\n",
       "Nairobi     105\n",
       "Nakuru       93\n",
       "Nyeri       100\n",
       "Thika       100\n",
       "Name: taxpayer_id, dtype: int64"
      ]
     },
     "execution_count": 40,
     "metadata": {},
     "output_type": "execute_result"
    }
   ],
   "source": [
    "\n",
    "# Count taxpayers per region\n",
    "taxpayer_count = df.groupby(\"region\")[\"taxpayer_id\"].count() \n",
    "taxpayer_count"
   ]
  },
  {
   "cell_type": "code",
   "execution_count": null,
   "id": "eac79e18-d4ce-4b74-9c58-83b8e9ceba28",
   "metadata": {},
   "outputs": [],
   "source": []
  },
  {
   "cell_type": "markdown",
   "id": "e8bd8b12-12a3-417a-a9ec-9f8e7aa154b5",
   "metadata": {},
   "source": [
    "# Merging Datasets"
   ]
  },
  {
   "cell_type": "code",
   "execution_count": 43,
   "id": "0a216e56-3c6d-4998-a46d-01e5ecdf0765",
   "metadata": {},
   "outputs": [
    {
     "data": {
      "text/html": [
       "<div>\n",
       "<style scoped>\n",
       "    .dataframe tbody tr th:only-of-type {\n",
       "        vertical-align: middle;\n",
       "    }\n",
       "\n",
       "    .dataframe tbody tr th {\n",
       "        vertical-align: top;\n",
       "    }\n",
       "\n",
       "    .dataframe thead th {\n",
       "        text-align: right;\n",
       "    }\n",
       "</style>\n",
       "<table border=\"1\" class=\"dataframe\">\n",
       "  <thead>\n",
       "    <tr style=\"text-align: right;\">\n",
       "      <th></th>\n",
       "      <th>taxpayer_id</th>\n",
       "      <th>compliance_status</th>\n",
       "    </tr>\n",
       "  </thead>\n",
       "  <tbody>\n",
       "    <tr>\n",
       "      <th>0</th>\n",
       "      <td>KE53351876</td>\n",
       "      <td>Compliant</td>\n",
       "    </tr>\n",
       "    <tr>\n",
       "      <th>1</th>\n",
       "      <td>KE56216125</td>\n",
       "      <td>Non-Compliant</td>\n",
       "    </tr>\n",
       "    <tr>\n",
       "      <th>2</th>\n",
       "      <td>KE64474455</td>\n",
       "      <td>Compliant</td>\n",
       "    </tr>\n",
       "    <tr>\n",
       "      <th>3</th>\n",
       "      <td>KE69994988</td>\n",
       "      <td>Compliant</td>\n",
       "    </tr>\n",
       "    <tr>\n",
       "      <th>4</th>\n",
       "      <td>KE88725274</td>\n",
       "      <td>Non-Compliant</td>\n",
       "    </tr>\n",
       "    <tr>\n",
       "      <th>...</th>\n",
       "      <td>...</td>\n",
       "      <td>...</td>\n",
       "    </tr>\n",
       "    <tr>\n",
       "      <th>995</th>\n",
       "      <td>KE67631343</td>\n",
       "      <td>Compliant</td>\n",
       "    </tr>\n",
       "    <tr>\n",
       "      <th>996</th>\n",
       "      <td>KE12976242</td>\n",
       "      <td>Compliant</td>\n",
       "    </tr>\n",
       "    <tr>\n",
       "      <th>997</th>\n",
       "      <td>KE94302960</td>\n",
       "      <td>Compliant</td>\n",
       "    </tr>\n",
       "    <tr>\n",
       "      <th>998</th>\n",
       "      <td>KE45912253</td>\n",
       "      <td>Non-Compliant</td>\n",
       "    </tr>\n",
       "    <tr>\n",
       "      <th>999</th>\n",
       "      <td>KE64717184</td>\n",
       "      <td>Compliant</td>\n",
       "    </tr>\n",
       "  </tbody>\n",
       "</table>\n",
       "<p>1000 rows × 2 columns</p>\n",
       "</div>"
      ],
      "text/plain": [
       "    taxpayer_id compliance_status\n",
       "0    KE53351876         Compliant\n",
       "1    KE56216125     Non-Compliant\n",
       "2    KE64474455         Compliant\n",
       "3    KE69994988         Compliant\n",
       "4    KE88725274     Non-Compliant\n",
       "..          ...               ...\n",
       "995  KE67631343         Compliant\n",
       "996  KE12976242         Compliant\n",
       "997  KE94302960         Compliant\n",
       "998  KE45912253     Non-Compliant\n",
       "999  KE64717184         Compliant\n",
       "\n",
       "[1000 rows x 2 columns]"
      ]
     },
     "execution_count": 43,
     "metadata": {},
     "output_type": "execute_result"
    }
   ],
   "source": [
    " # Sample dataset\n",
    "df_tax_compliance = df[[\"taxpayer_id\", \"compliance_status\"]].sample(frac=1).reset_index(drop=True) \n",
    "df_tax_compliance"
   ]
  },
  {
   "cell_type": "code",
   "execution_count": 44,
   "id": "d1b1fae3-5908-41d1-9b0e-653a2272bf34",
   "metadata": {},
   "outputs": [
    {
     "data": {
      "text/html": [
       "<div>\n",
       "<style scoped>\n",
       "    .dataframe tbody tr th:only-of-type {\n",
       "        vertical-align: middle;\n",
       "    }\n",
       "\n",
       "    .dataframe tbody tr th {\n",
       "        vertical-align: top;\n",
       "    }\n",
       "\n",
       "    .dataframe thead th {\n",
       "        text-align: right;\n",
       "    }\n",
       "</style>\n",
       "<table border=\"1\" class=\"dataframe\">\n",
       "  <thead>\n",
       "    <tr style=\"text-align: right;\">\n",
       "      <th></th>\n",
       "      <th>taxpayer_id</th>\n",
       "      <th>taxpayer_name</th>\n",
       "      <th>region</th>\n",
       "      <th>sector</th>\n",
       "      <th>taxpayer_type</th>\n",
       "      <th>tax_paid</th>\n",
       "      <th>VAT_paid</th>\n",
       "      <th>income_tax_paid</th>\n",
       "      <th>corporate_tax_paid</th>\n",
       "      <th>registration_date</th>\n",
       "      <th>compliance_status_orig</th>\n",
       "      <th>compliance_status_compliance</th>\n",
       "    </tr>\n",
       "  </thead>\n",
       "  <tbody>\n",
       "    <tr>\n",
       "      <th>0</th>\n",
       "      <td>KE75682867</td>\n",
       "      <td>NINA QUINN</td>\n",
       "      <td>Nairobi</td>\n",
       "      <td>Retail</td>\n",
       "      <td>Individual</td>\n",
       "      <td>81153</td>\n",
       "      <td>52578</td>\n",
       "      <td>54428</td>\n",
       "      <td>108036</td>\n",
       "      <td>2021-04-30</td>\n",
       "      <td>Compliant</td>\n",
       "      <td>Compliant</td>\n",
       "    </tr>\n",
       "    <tr>\n",
       "      <th>1</th>\n",
       "      <td>KE66755036</td>\n",
       "      <td>ROGER THOMAS</td>\n",
       "      <td>Nakuru</td>\n",
       "      <td>Retail</td>\n",
       "      <td>Individual</td>\n",
       "      <td>240128</td>\n",
       "      <td>80025</td>\n",
       "      <td>35870</td>\n",
       "      <td>116525</td>\n",
       "      <td>2020-02-27</td>\n",
       "      <td>Compliant</td>\n",
       "      <td>Compliant</td>\n",
       "    </tr>\n",
       "    <tr>\n",
       "      <th>2</th>\n",
       "      <td>KE66882282</td>\n",
       "      <td>GINA YANG</td>\n",
       "      <td>Machakos</td>\n",
       "      <td>Health</td>\n",
       "      <td>Individual</td>\n",
       "      <td>80388</td>\n",
       "      <td>33658</td>\n",
       "      <td>105547</td>\n",
       "      <td>85679</td>\n",
       "      <td>2018-06-20</td>\n",
       "      <td>Compliant</td>\n",
       "      <td>Compliant</td>\n",
       "    </tr>\n",
       "    <tr>\n",
       "      <th>3</th>\n",
       "      <td>KE31081788</td>\n",
       "      <td>JAMES WHEELER</td>\n",
       "      <td>Nakuru</td>\n",
       "      <td>Manufacturing</td>\n",
       "      <td>Corporate</td>\n",
       "      <td>36401</td>\n",
       "      <td>7852</td>\n",
       "      <td>51067</td>\n",
       "      <td>125829</td>\n",
       "      <td>2021-03-22</td>\n",
       "      <td>Compliant</td>\n",
       "      <td>Compliant</td>\n",
       "    </tr>\n",
       "    <tr>\n",
       "      <th>4</th>\n",
       "      <td>KE23315092</td>\n",
       "      <td>MICHAEL GOODWIN</td>\n",
       "      <td>Thika</td>\n",
       "      <td>Agriculture</td>\n",
       "      <td>Individual</td>\n",
       "      <td>207903</td>\n",
       "      <td>95986</td>\n",
       "      <td>191657</td>\n",
       "      <td>128216</td>\n",
       "      <td>2018-04-15</td>\n",
       "      <td>Compliant</td>\n",
       "      <td>Compliant</td>\n",
       "    </tr>\n",
       "    <tr>\n",
       "      <th>...</th>\n",
       "      <td>...</td>\n",
       "      <td>...</td>\n",
       "      <td>...</td>\n",
       "      <td>...</td>\n",
       "      <td>...</td>\n",
       "      <td>...</td>\n",
       "      <td>...</td>\n",
       "      <td>...</td>\n",
       "      <td>...</td>\n",
       "      <td>...</td>\n",
       "      <td>...</td>\n",
       "      <td>...</td>\n",
       "    </tr>\n",
       "    <tr>\n",
       "      <th>995</th>\n",
       "      <td>KE60676914</td>\n",
       "      <td>CAITLYN BURNS</td>\n",
       "      <td>Nyeri</td>\n",
       "      <td>Transport</td>\n",
       "      <td>Individual</td>\n",
       "      <td>26253</td>\n",
       "      <td>95108</td>\n",
       "      <td>119269</td>\n",
       "      <td>45436</td>\n",
       "      <td>2017-02-16</td>\n",
       "      <td>Non-Compliant</td>\n",
       "      <td>Non-Compliant</td>\n",
       "    </tr>\n",
       "    <tr>\n",
       "      <th>996</th>\n",
       "      <td>KE36704425</td>\n",
       "      <td>STEPHEN GONZALEZ</td>\n",
       "      <td>Kakamega</td>\n",
       "      <td>Retail</td>\n",
       "      <td>Individual</td>\n",
       "      <td>462382</td>\n",
       "      <td>3204</td>\n",
       "      <td>199701</td>\n",
       "      <td>11569</td>\n",
       "      <td>2023-01-05</td>\n",
       "      <td>Compliant</td>\n",
       "      <td>Compliant</td>\n",
       "    </tr>\n",
       "    <tr>\n",
       "      <th>997</th>\n",
       "      <td>KE71298111</td>\n",
       "      <td>LAURIE VALENCIA</td>\n",
       "      <td>Nyeri</td>\n",
       "      <td>Hospitality</td>\n",
       "      <td>Individual</td>\n",
       "      <td>184635</td>\n",
       "      <td>93769</td>\n",
       "      <td>82764</td>\n",
       "      <td>144101</td>\n",
       "      <td>2018-09-30</td>\n",
       "      <td>Compliant</td>\n",
       "      <td>Compliant</td>\n",
       "    </tr>\n",
       "    <tr>\n",
       "      <th>998</th>\n",
       "      <td>KE55014515</td>\n",
       "      <td>ANITA FARMER</td>\n",
       "      <td>Kakamega</td>\n",
       "      <td>Construction</td>\n",
       "      <td>Individual</td>\n",
       "      <td>162462</td>\n",
       "      <td>88265</td>\n",
       "      <td>153956</td>\n",
       "      <td>22490</td>\n",
       "      <td>2024-05-29</td>\n",
       "      <td>Compliant</td>\n",
       "      <td>Compliant</td>\n",
       "    </tr>\n",
       "    <tr>\n",
       "      <th>999</th>\n",
       "      <td>KE64869006</td>\n",
       "      <td>JONATHAN CARLSON</td>\n",
       "      <td>Meru</td>\n",
       "      <td>Construction</td>\n",
       "      <td>Individual</td>\n",
       "      <td>355808</td>\n",
       "      <td>32131</td>\n",
       "      <td>158255</td>\n",
       "      <td>45875</td>\n",
       "      <td>2022-09-16</td>\n",
       "      <td>Compliant</td>\n",
       "      <td>Compliant</td>\n",
       "    </tr>\n",
       "  </tbody>\n",
       "</table>\n",
       "<p>1000 rows × 12 columns</p>\n",
       "</div>"
      ],
      "text/plain": [
       "    taxpayer_id     taxpayer_name    region         sector taxpayer_type  \\\n",
       "0    KE75682867        NINA QUINN   Nairobi         Retail    Individual   \n",
       "1    KE66755036      ROGER THOMAS    Nakuru         Retail    Individual   \n",
       "2    KE66882282         GINA YANG  Machakos         Health    Individual   \n",
       "3    KE31081788     JAMES WHEELER    Nakuru  Manufacturing     Corporate   \n",
       "4    KE23315092   MICHAEL GOODWIN     Thika    Agriculture    Individual   \n",
       "..          ...               ...       ...            ...           ...   \n",
       "995  KE60676914     CAITLYN BURNS     Nyeri      Transport    Individual   \n",
       "996  KE36704425  STEPHEN GONZALEZ  Kakamega         Retail    Individual   \n",
       "997  KE71298111   LAURIE VALENCIA     Nyeri    Hospitality    Individual   \n",
       "998  KE55014515      ANITA FARMER  Kakamega   Construction    Individual   \n",
       "999  KE64869006  JONATHAN CARLSON      Meru   Construction    Individual   \n",
       "\n",
       "     tax_paid  VAT_paid  income_tax_paid  corporate_tax_paid  \\\n",
       "0       81153     52578            54428              108036   \n",
       "1      240128     80025            35870              116525   \n",
       "2       80388     33658           105547               85679   \n",
       "3       36401      7852            51067              125829   \n",
       "4      207903     95986           191657              128216   \n",
       "..        ...       ...              ...                 ...   \n",
       "995     26253     95108           119269               45436   \n",
       "996    462382      3204           199701               11569   \n",
       "997    184635     93769            82764              144101   \n",
       "998    162462     88265           153956               22490   \n",
       "999    355808     32131           158255               45875   \n",
       "\n",
       "    registration_date compliance_status_orig compliance_status_compliance  \n",
       "0          2021-04-30              Compliant                    Compliant  \n",
       "1          2020-02-27              Compliant                    Compliant  \n",
       "2          2018-06-20              Compliant                    Compliant  \n",
       "3          2021-03-22              Compliant                    Compliant  \n",
       "4          2018-04-15              Compliant                    Compliant  \n",
       "..                ...                    ...                          ...  \n",
       "995        2017-02-16          Non-Compliant                Non-Compliant  \n",
       "996        2023-01-05              Compliant                    Compliant  \n",
       "997        2018-09-30              Compliant                    Compliant  \n",
       "998        2024-05-29              Compliant                    Compliant  \n",
       "999        2022-09-16              Compliant                    Compliant  \n",
       "\n",
       "[1000 rows x 12 columns]"
      ]
     },
     "execution_count": 44,
     "metadata": {},
     "output_type": "execute_result"
    }
   ],
   "source": [
    "# Merge datasets\n",
    "df_merged = pd.merge(df, df_tax_compliance, on=\"taxpayer_id\", how=\"inner\", suffixes=(\"_orig\", \"_compliance\"))  \n",
    "df_merged"
   ]
  },
  {
   "cell_type": "markdown",
   "id": "2b9eb4bb-5eef-427a-be2c-7b84599f7b94",
   "metadata": {},
   "source": [
    "# Descriptive Statistics"
   ]
  },
  {
   "cell_type": "code",
   "execution_count": 42,
   "id": "bd17a1bc-662a-4531-9140-c5794c454d3f",
   "metadata": {},
   "outputs": [
    {
     "data": {
      "text/html": [
       "<div>\n",
       "<style scoped>\n",
       "    .dataframe tbody tr th:only-of-type {\n",
       "        vertical-align: middle;\n",
       "    }\n",
       "\n",
       "    .dataframe tbody tr th {\n",
       "        vertical-align: top;\n",
       "    }\n",
       "\n",
       "    .dataframe thead th {\n",
       "        text-align: right;\n",
       "    }\n",
       "</style>\n",
       "<table border=\"1\" class=\"dataframe\">\n",
       "  <thead>\n",
       "    <tr style=\"text-align: right;\">\n",
       "      <th></th>\n",
       "      <th>tax_paid</th>\n",
       "      <th>VAT_paid</th>\n",
       "      <th>income_tax_paid</th>\n",
       "      <th>corporate_tax_paid</th>\n",
       "      <th>registration_date</th>\n",
       "    </tr>\n",
       "  </thead>\n",
       "  <tbody>\n",
       "    <tr>\n",
       "      <th>count</th>\n",
       "      <td>1000.000000</td>\n",
       "      <td>1000.000000</td>\n",
       "      <td>1000.000000</td>\n",
       "      <td>1000.000000</td>\n",
       "      <td>1000</td>\n",
       "    </tr>\n",
       "    <tr>\n",
       "      <th>mean</th>\n",
       "      <td>238575.992000</td>\n",
       "      <td>49667.325000</td>\n",
       "      <td>101107.975000</td>\n",
       "      <td>75225.576000</td>\n",
       "      <td>2020-04-06 08:51:21.600000</td>\n",
       "    </tr>\n",
       "    <tr>\n",
       "      <th>min</th>\n",
       "      <td>5781.000000</td>\n",
       "      <td>1138.000000</td>\n",
       "      <td>2174.000000</td>\n",
       "      <td>287.000000</td>\n",
       "      <td>2015-02-12 00:00:00</td>\n",
       "    </tr>\n",
       "    <tr>\n",
       "      <th>25%</th>\n",
       "      <td>114655.000000</td>\n",
       "      <td>23775.250000</td>\n",
       "      <td>49744.250000</td>\n",
       "      <td>39152.750000</td>\n",
       "      <td>2017-08-15 06:00:00</td>\n",
       "    </tr>\n",
       "    <tr>\n",
       "      <th>50%</th>\n",
       "      <td>228613.000000</td>\n",
       "      <td>50829.500000</td>\n",
       "      <td>101776.000000</td>\n",
       "      <td>75553.000000</td>\n",
       "      <td>2020-07-16 00:00:00</td>\n",
       "    </tr>\n",
       "    <tr>\n",
       "      <th>75%</th>\n",
       "      <td>360742.250000</td>\n",
       "      <td>75041.000000</td>\n",
       "      <td>151738.250000</td>\n",
       "      <td>111578.250000</td>\n",
       "      <td>2022-11-01 00:00:00</td>\n",
       "    </tr>\n",
       "    <tr>\n",
       "      <th>max</th>\n",
       "      <td>498948.000000</td>\n",
       "      <td>99826.000000</td>\n",
       "      <td>199971.000000</td>\n",
       "      <td>149888.000000</td>\n",
       "      <td>2025-02-11 00:00:00</td>\n",
       "    </tr>\n",
       "    <tr>\n",
       "      <th>std</th>\n",
       "      <td>143964.174834</td>\n",
       "      <td>28633.449716</td>\n",
       "      <td>57481.637667</td>\n",
       "      <td>43017.255093</td>\n",
       "      <td>NaN</td>\n",
       "    </tr>\n",
       "  </tbody>\n",
       "</table>\n",
       "</div>"
      ],
      "text/plain": [
       "            tax_paid      VAT_paid  income_tax_paid  corporate_tax_paid  \\\n",
       "count    1000.000000   1000.000000      1000.000000         1000.000000   \n",
       "mean   238575.992000  49667.325000    101107.975000        75225.576000   \n",
       "min      5781.000000   1138.000000      2174.000000          287.000000   \n",
       "25%    114655.000000  23775.250000     49744.250000        39152.750000   \n",
       "50%    228613.000000  50829.500000    101776.000000        75553.000000   \n",
       "75%    360742.250000  75041.000000    151738.250000       111578.250000   \n",
       "max    498948.000000  99826.000000    199971.000000       149888.000000   \n",
       "std    143964.174834  28633.449716     57481.637667        43017.255093   \n",
       "\n",
       "                registration_date  \n",
       "count                        1000  \n",
       "mean   2020-04-06 08:51:21.600000  \n",
       "min           2015-02-12 00:00:00  \n",
       "25%           2017-08-15 06:00:00  \n",
       "50%           2020-07-16 00:00:00  \n",
       "75%           2022-11-01 00:00:00  \n",
       "max           2025-02-11 00:00:00  \n",
       "std                           NaN  "
      ]
     },
     "execution_count": 42,
     "metadata": {},
     "output_type": "execute_result"
    }
   ],
   "source": [
    "summary_statistics = df.describe()\n",
    "summary_statistics"
   ]
  },
  {
   "cell_type": "code",
   "execution_count": 47,
   "id": "f91228f1-7da4-4fed-9038-5fafb247db97",
   "metadata": {},
   "outputs": [
    {
     "name": "stdout",
     "output_type": "stream",
     "text": [
      "\n",
      "Correlation matrix of continuous variables:\n",
      "                    tax_paid  VAT_paid  income_tax_paid  corporate_tax_paid\n",
      "tax_paid            1.000000  0.017675        -0.023196            0.024190\n",
      "VAT_paid            0.017675  1.000000        -0.007595            0.002230\n",
      "income_tax_paid    -0.023196 -0.007595         1.000000           -0.023621\n",
      "corporate_tax_paid  0.024190  0.002230        -0.023621            1.000000\n"
     ]
    }
   ],
   "source": [
    "# Correlation matrix of numerical features\n",
    "continuous_columns = df.select_dtypes(include=['number']).columns.tolist()\n",
    "print(\"\\nCorrelation matrix of continuous variables:\")\n",
    "print(df[continuous_columns].corr())"
   ]
  },
  {
   "cell_type": "markdown",
   "id": "72a44adb-c5c2-41ed-8139-7eced46e93a4",
   "metadata": {},
   "source": [
    "# Exercise"
   ]
  },
  {
   "cell_type": "markdown",
   "id": "09cd0fc8-a054-467d-bf7a-b95577b10011",
   "metadata": {},
   "source": [
    "## Exercise 1"
   ]
  },
  {
   "cell_type": "markdown",
   "id": "cc67202f-1929-4108-9644-48b89274ff08",
   "metadata": {},
   "source": [
    "Load the dataset into a Pandas DataFrame and display the first 5 rows."
   ]
  },
  {
   "cell_type": "code",
   "execution_count": 4,
   "id": "ea45150c-9ec7-4a03-ace9-f9a596bd8488",
   "metadata": {},
   "outputs": [
    {
     "name": "stdout",
     "output_type": "stream",
     "text": [
      "  taxpayer_id  taxpayer_name    region         sector taxpayer_type  tax_paid  \\\n",
      "0  KE75682867  Brandon Smith   Nairobi         Retail    Individual     81153   \n",
      "1  KE66755036   Megan Patton    Nakuru         Retail    Individual    240128   \n",
      "2  KE66882282  James Douglas  Machakos         Health    Individual     80388   \n",
      "3  KE31081788    Haley Moore    Nakuru  Manufacturing     Corporate     36401   \n",
      "4  KE23315092      Dean Kemp     Thika    Agriculture    Individual    207903   \n",
      "\n",
      "   VAT_paid  income_tax_paid  corporate_tax_paid registration_date  \\\n",
      "0     52578            54428              108036        2022-06-16   \n",
      "1     80025            35870              116525        2024-02-02   \n",
      "2     33658           105547               85679        2017-07-12   \n",
      "3      7852            51067              125829        2023-07-06   \n",
      "4     95986           191657              128216        2015-04-14   \n",
      "\n",
      "  compliance_status  \n",
      "0         Compliant  \n",
      "1         Compliant  \n",
      "2         Compliant  \n",
      "3         Compliant  \n",
      "4         Compliant  \n"
     ]
    }
   ],
   "source": [
    "import pandas as pd\n",
    "\n",
    "df = pd.read_excel('KRA_Class_Dataset.xlsx')\n",
    "\n",
    "print(df.head())"
   ]
  },
  {
   "cell_type": "markdown",
   "id": "abbdbb73-e59a-43a6-b5f9-fa7a64c41574",
   "metadata": {},
   "source": [
    "## Exercise 2"
   ]
  },
  {
   "cell_type": "markdown",
   "id": "3b7a79db-8e51-42b3-b3d6-d12ed3205b58",
   "metadata": {},
   "source": [
    "Filter taxpayers who have paid more than 300,000 KES in tax."
   ]
  },
  {
   "cell_type": "code",
   "execution_count": 5,
   "id": "913bc53f-08af-4deb-b7fe-d94f03aac506",
   "metadata": {},
   "outputs": [
    {
     "name": "stdout",
     "output_type": "stream",
     "text": [
      "   taxpayer_id     taxpayer_name    region         sector taxpayer_type  \\\n",
      "12  KE23953367    Andrea Johnson   Mombasa  Manufacturing    Individual   \n",
      "13  KE95652971   Matthew Elliott  Kakamega      Transport    Individual   \n",
      "16  KE86893497  Curtis Hernandez   Nairobi        Finance    Individual   \n",
      "17  KE40349564       Jodi Torres     Thika      IT & Tech           SME   \n",
      "18  KE52860080     Kevin Jenkins     Thika    Agriculture    Individual   \n",
      "\n",
      "    tax_paid  VAT_paid  income_tax_paid  corporate_tax_paid registration_date  \\\n",
      "12    454042     76939            63215              102476        2017-05-29   \n",
      "13    434667     58828           188907              120721        2018-10-09   \n",
      "16    303185     22384           110048              131040        2017-12-30   \n",
      "17    356064     22038           171530               35503        2019-07-02   \n",
      "18    332825     41846           179241               75403        2018-03-25   \n",
      "\n",
      "   compliance_status  \n",
      "12         Compliant  \n",
      "13         Compliant  \n",
      "16     Non-Compliant  \n",
      "17         Compliant  \n",
      "18         Compliant  \n"
     ]
    }
   ],
   "source": [
    "high_tax_payers = df[df['tax_paid'] > 300000]\n",
    "\n",
    "print(high_tax_payers.head())"
   ]
  },
  {
   "cell_type": "markdown",
   "id": "e6b0684e-3682-4991-8d29-955abf15c2ed",
   "metadata": {},
   "source": [
    "## Exercise 3"
   ]
  },
  {
   "cell_type": "markdown",
   "id": "51ee025a-4b35-45b8-972a-ed7041c03785",
   "metadata": {},
   "source": [
    "Sort the dataset by the amount of tax paid in descending order."
   ]
  },
  {
   "cell_type": "code",
   "execution_count": 6,
   "id": "89534737-2eab-4664-b910-f1be99706686",
   "metadata": {},
   "outputs": [
    {
     "name": "stdout",
     "output_type": "stream",
     "text": [
      "    taxpayer_id  taxpayer_name    region         sector taxpayer_type  \\\n",
      "104  KE73203558   Rachel Brown      Meru         Health           SME   \n",
      "762  KE20320855   Tricia Smith    Kisumu  Manufacturing    Individual   \n",
      "318  KE89688895  Nicole Martin    Kisumu   Construction    Individual   \n",
      "49   KE83506850       Amy Haas   Eldoret      IT & Tech    Individual   \n",
      "916  KE90480036  Nicole Hughes  Machakos      Education    Individual   \n",
      "\n",
      "     tax_paid  VAT_paid  income_tax_paid  corporate_tax_paid  \\\n",
      "104    498948     26556           130389              116545   \n",
      "762    498253     24782            46942               84149   \n",
      "318    498158     30033            54874               13233   \n",
      "49     497289      6906           115000               70014   \n",
      "916    497092     81098            37931                2035   \n",
      "\n",
      "    registration_date compliance_status  \n",
      "104        2023-11-08         Compliant  \n",
      "762        2015-10-08         Compliant  \n",
      "318        2021-04-24         Compliant  \n",
      "49         2022-09-12         Compliant  \n",
      "916        2021-11-16         Compliant  \n"
     ]
    }
   ],
   "source": [
    "sorted_df = df.sort_values(by='tax_paid', ascending=False)\n",
    "\n",
    "print(sorted_df.head())"
   ]
  },
  {
   "cell_type": "markdown",
   "id": "ba8fa1c7-aa5a-4e3a-a252-284df76b77f5",
   "metadata": {},
   "source": [
    "## Exercise 4"
   ]
  },
  {
   "cell_type": "markdown",
   "id": "78ace164-7c3c-4a72-b99f-0459ac7d8dd6",
   "metadata": {},
   "source": [
    "Convert all taxpayer names to uppercase"
   ]
  },
  {
   "cell_type": "code",
   "execution_count": 7,
   "id": "f31af714-0391-4033-8f56-193fc623ad1d",
   "metadata": {},
   "outputs": [
    {
     "name": "stdout",
     "output_type": "stream",
     "text": [
      "  taxpayer_id  taxpayer_name    region         sector taxpayer_type  tax_paid  \\\n",
      "0  KE75682867  BRANDON SMITH   Nairobi         Retail    Individual     81153   \n",
      "1  KE66755036   MEGAN PATTON    Nakuru         Retail    Individual    240128   \n",
      "2  KE66882282  JAMES DOUGLAS  Machakos         Health    Individual     80388   \n",
      "3  KE31081788    HALEY MOORE    Nakuru  Manufacturing     Corporate     36401   \n",
      "4  KE23315092      DEAN KEMP     Thika    Agriculture    Individual    207903   \n",
      "\n",
      "   VAT_paid  income_tax_paid  corporate_tax_paid registration_date  \\\n",
      "0     52578            54428              108036        2022-06-16   \n",
      "1     80025            35870              116525        2024-02-02   \n",
      "2     33658           105547               85679        2017-07-12   \n",
      "3      7852            51067              125829        2023-07-06   \n",
      "4     95986           191657              128216        2015-04-14   \n",
      "\n",
      "  compliance_status  \n",
      "0         Compliant  \n",
      "1         Compliant  \n",
      "2         Compliant  \n",
      "3         Compliant  \n",
      "4         Compliant  \n"
     ]
    }
   ],
   "source": [
    "df['taxpayer_name'] = df['taxpayer_name'].str.upper()\n",
    "\n",
    "print(df.head())"
   ]
  },
  {
   "cell_type": "markdown",
   "id": "df20a91f-c1ea-417e-a8bb-898f30ba01a8",
   "metadata": {},
   "source": [
    "## Exercise 5"
   ]
  },
  {
   "cell_type": "markdown",
   "id": "833e8b52-aabe-4cb3-bbdf-e217dd659f86",
   "metadata": {},
   "source": [
    "Extract the numeric portion from the taxpayer ID (e.g., 'KE12345678' -> '12345678')."
   ]
  },
  {
   "cell_type": "code",
   "execution_count": 8,
   "id": "417397c2-32b8-4a8b-8ddd-038c22a0de91",
   "metadata": {},
   "outputs": [
    {
     "name": "stdout",
     "output_type": "stream",
     "text": [
      "  taxpayer_id  taxpayer_name    region         sector taxpayer_type  tax_paid  \\\n",
      "0  KE75682867  BRANDON SMITH   Nairobi         Retail    Individual     81153   \n",
      "1  KE66755036   MEGAN PATTON    Nakuru         Retail    Individual    240128   \n",
      "2  KE66882282  JAMES DOUGLAS  Machakos         Health    Individual     80388   \n",
      "3  KE31081788    HALEY MOORE    Nakuru  Manufacturing     Corporate     36401   \n",
      "4  KE23315092      DEAN KEMP     Thika    Agriculture    Individual    207903   \n",
      "\n",
      "   VAT_paid  income_tax_paid  corporate_tax_paid registration_date  \\\n",
      "0     52578            54428              108036        2022-06-16   \n",
      "1     80025            35870              116525        2024-02-02   \n",
      "2     33658           105547               85679        2017-07-12   \n",
      "3      7852            51067              125829        2023-07-06   \n",
      "4     95986           191657              128216        2015-04-14   \n",
      "\n",
      "  compliance_status taxpayer_pin  \n",
      "0         Compliant     75682867  \n",
      "1         Compliant     66755036  \n",
      "2         Compliant     66882282  \n",
      "3         Compliant     31081788  \n",
      "4         Compliant     23315092  \n"
     ]
    }
   ],
   "source": [
    "df['taxpayer_pin'] = df['taxpayer_id'].str.extract(r'KE(\\d+)')\n",
    "\n",
    "print(df.head())"
   ]
  },
  {
   "cell_type": "markdown",
   "id": "bd3fab98-6a5a-410f-9de4-d2f9a20cd998",
   "metadata": {},
   "source": [
    "## Exercise 6"
   ]
  },
  {
   "cell_type": "markdown",
   "id": "9e5cdd01-7299-409e-b5e9-e6a8cb4a91e8",
   "metadata": {},
   "source": [
    "Count the number of taxpayers per region"
   ]
  },
  {
   "cell_type": "code",
   "execution_count": 9,
   "id": "6d8c17e1-50bf-4c62-9bc9-8342c41d0633",
   "metadata": {},
   "outputs": [
    {
     "name": "stdout",
     "output_type": "stream",
     "text": [
      "region\n",
      "Eldoret     100\n",
      "Kakamega    101\n",
      "Kisumu       91\n",
      "Machakos     97\n",
      "Meru        103\n",
      "Mombasa     110\n",
      "Nairobi     105\n",
      "Nakuru       93\n",
      "Nyeri       100\n",
      "Thika       100\n",
      "Name: taxpayer_id, dtype: int64\n"
     ]
    }
   ],
   "source": [
    "taxpayer_count = df.groupby('region')['taxpayer_id'].count()\n",
    "\n",
    "print(taxpayer_count)"
   ]
  },
  {
   "cell_type": "markdown",
   "id": "beb88559-305e-4675-9b2d-bb30fd0437c0",
   "metadata": {},
   "source": [
    "## Exercise 7"
   ]
  },
  {
   "cell_type": "markdown",
   "id": "733a5421-9cd8-4c1d-bcc4-1bc6090e799d",
   "metadata": {},
   "source": [
    "Find the total tax collected per sector."
   ]
  },
  {
   "cell_type": "code",
   "execution_count": 10,
   "id": "95240084-2717-44a7-b049-db753f63b8bd",
   "metadata": {},
   "outputs": [
    {
     "name": "stdout",
     "output_type": "stream",
     "text": [
      "sector\n",
      "Agriculture      24157013\n",
      "Construction     24143047\n",
      "Education        31307726\n",
      "Finance          19756769\n",
      "Health           21340778\n",
      "Hospitality      23485686\n",
      "IT & Tech        21554273\n",
      "Manufacturing    27938699\n",
      "Retail           22845099\n",
      "Transport        22046902\n",
      "Name: tax_paid, dtype: int64\n"
     ]
    }
   ],
   "source": [
    "tax_per_sector = df.groupby('sector')['tax_paid'].sum()\n",
    "\n",
    "print(tax_per_sector)"
   ]
  },
  {
   "cell_type": "markdown",
   "id": "f697df62-a96b-4018-8cdc-ac1dcee2cc1d",
   "metadata": {},
   "source": [
    "## Exercise 8"
   ]
  },
  {
   "cell_type": "markdown",
   "id": "c9aa5f4f-1893-4a15-9043-3326902dc5b9",
   "metadata": {},
   "source": [
    "Remove any duplicate taxpayer records based on the taxpayer ID"
   ]
  },
  {
   "cell_type": "code",
   "execution_count": 12,
   "id": "36bb6db7-ba30-404b-90a5-827bc23333b3",
   "metadata": {},
   "outputs": [
    {
     "name": "stdout",
     "output_type": "stream",
     "text": [
      "(1000, 12)\n"
     ]
    }
   ],
   "source": [
    "df.drop_duplicates(subset=['taxpayer_id'], keep='first', inplace=True)\n",
    "print(df.shape)"
   ]
  },
  {
   "cell_type": "markdown",
   "id": "19357fbb-7bd8-458a-b2ad-27024057f470",
   "metadata": {},
   "source": [
    "## Exercise 9"
   ]
  },
  {
   "cell_type": "markdown",
   "id": "5f971a78-fca3-4b0f-b63e-9b19154ef2d5",
   "metadata": {},
   "source": [
    "Convert the registration date column into a proper datetime format."
   ]
  },
  {
   "cell_type": "code",
   "execution_count": 13,
   "id": "89053b13-eba5-44ee-8dfa-73b3f0eb0910",
   "metadata": {},
   "outputs": [
    {
     "name": "stdout",
     "output_type": "stream",
     "text": [
      "taxpayer_id                   object\n",
      "taxpayer_name                 object\n",
      "region                        object\n",
      "sector                        object\n",
      "taxpayer_type                 object\n",
      "tax_paid                       int64\n",
      "VAT_paid                       int64\n",
      "income_tax_paid                int64\n",
      "corporate_tax_paid             int64\n",
      "registration_date     datetime64[ns]\n",
      "compliance_status             object\n",
      "taxpayer_pin                  object\n",
      "dtype: object\n"
     ]
    }
   ],
   "source": [
    "df['registration_date'] = pd.to_datetime(df['registration_date'])\n",
    "\n",
    "print(df.dtypes)"
   ]
  },
  {
   "cell_type": "markdown",
   "id": "ce538955-a382-4fde-94c3-d1e3537ec286",
   "metadata": {},
   "source": [
    "# Exercise 10"
   ]
  },
  {
   "cell_type": "markdown",
   "id": "19b2610e-5e9e-443f-88a5-c3feba026c2f",
   "metadata": {},
   "source": [
    "Merge this dataset with another dataset containing taxpayer compliance status"
   ]
  },
  {
   "cell_type": "code",
   "execution_count": 14,
   "id": "296d65f6-e00a-4243-914c-74f40fa546f7",
   "metadata": {},
   "outputs": [
    {
     "ename": "NameError",
     "evalue": "name 'KRA_Taxpayer_Compliance' is not defined",
     "output_type": "error",
     "traceback": [
      "\u001b[1;31m---------------------------------------------------------------------------\u001b[0m",
      "\u001b[1;31mNameError\u001b[0m                                 Traceback (most recent call last)",
      "\u001b[1;32m<ipython-input-14-7d3995ff4d50>\u001b[0m in \u001b[0;36m<module>\u001b[1;34m\u001b[0m\n\u001b[1;32m----> 1\u001b[1;33m \u001b[0mdf_merged\u001b[0m \u001b[1;33m=\u001b[0m \u001b[0mpd\u001b[0m\u001b[1;33m.\u001b[0m\u001b[0mmerge\u001b[0m\u001b[1;33m(\u001b[0m\u001b[0mdf\u001b[0m\u001b[1;33m,\u001b[0m \u001b[0mKRA_Taxpayer_Compliance\u001b[0m\u001b[1;33m,\u001b[0m \u001b[0mon\u001b[0m\u001b[1;33m=\u001b[0m\u001b[1;34m'taxpayer_id'\u001b[0m\u001b[1;33m,\u001b[0m \u001b[0mhow\u001b[0m\u001b[1;33m=\u001b[0m\u001b[1;34m'inner'\u001b[0m\u001b[1;33m,\u001b[0m \u001b[0msuffixes\u001b[0m\u001b[1;33m=\u001b[0m\u001b[1;33m(\u001b[0m\u001b[1;34m'_original'\u001b[0m\u001b[1;33m,\u001b[0m \u001b[1;34m'_compliance'\u001b[0m\u001b[1;33m)\u001b[0m\u001b[1;33m)\u001b[0m\u001b[1;33m\u001b[0m\u001b[1;33m\u001b[0m\u001b[0m\n\u001b[0m\u001b[0;32m      2\u001b[0m \u001b[1;33m\u001b[0m\u001b[0m\n\u001b[0;32m      3\u001b[0m \u001b[0mprint\u001b[0m\u001b[1;33m(\u001b[0m\u001b[0mdf_merged\u001b[0m\u001b[1;33m.\u001b[0m\u001b[0mhead\u001b[0m\u001b[1;33m(\u001b[0m\u001b[1;33m)\u001b[0m\u001b[1;33m)\u001b[0m\u001b[1;33m\u001b[0m\u001b[1;33m\u001b[0m\u001b[0m\n",
      "\u001b[1;31mNameError\u001b[0m: name 'KRA_Taxpayer_Compliance' is not defined"
     ]
    }
   ],
   "source": [
    "df_merged = pd.merge(df, KRA_Taxpayer_Compliance, on='taxpayer_id', how='inner', suffixes=('_original', '_compliance'))\n",
    "\n",
    "print(df_merged.head())"
   ]
  },
  {
   "cell_type": "markdown",
   "id": "beb61e5d-4145-4dab-8612-fc2d33c43cf4",
   "metadata": {},
   "source": [
    "# Exercise 11"
   ]
  },
  {
   "cell_type": "markdown",
   "id": "d9c27119-5975-4fbd-ae8c-fb9419fc2372",
   "metadata": {},
   "source": [
    "Write a code that counts the unique values per categorical column"
   ]
  },
  {
   "cell_type": "code",
   "execution_count": 15,
   "id": "521dff11-c18e-47b2-9115-8c22f71854c2",
   "metadata": {},
   "outputs": [
    {
     "ename": "NameError",
     "evalue": "name 'categorical_columns' is not defined",
     "output_type": "error",
     "traceback": [
      "\u001b[1;31m---------------------------------------------------------------------------\u001b[0m",
      "\u001b[1;31mNameError\u001b[0m                                 Traceback (most recent call last)",
      "\u001b[1;32m<ipython-input-15-68ebd4c726e2>\u001b[0m in \u001b[0;36m<module>\u001b[1;34m\u001b[0m\n\u001b[1;32m----> 1\u001b[1;33m \u001b[0mcategorical_unique_counts\u001b[0m \u001b[1;33m=\u001b[0m \u001b[1;33m{\u001b[0m\u001b[0mcol\u001b[0m\u001b[1;33m:\u001b[0m \u001b[0mdf\u001b[0m\u001b[1;33m[\u001b[0m\u001b[0mcol\u001b[0m\u001b[1;33m]\u001b[0m\u001b[1;33m.\u001b[0m\u001b[0mnunique\u001b[0m\u001b[1;33m(\u001b[0m\u001b[1;33m)\u001b[0m \u001b[1;32mfor\u001b[0m \u001b[0mcol\u001b[0m \u001b[1;32min\u001b[0m \u001b[0mcategorical_columns\u001b[0m\u001b[1;33m}\u001b[0m\u001b[1;33m\u001b[0m\u001b[1;33m\u001b[0m\u001b[0m\n\u001b[0m\u001b[0;32m      2\u001b[0m \u001b[0mprint\u001b[0m\u001b[1;33m(\u001b[0m\u001b[0mcategorical_unique_counts\u001b[0m\u001b[1;33m)\u001b[0m\u001b[1;33m\u001b[0m\u001b[1;33m\u001b[0m\u001b[0m\n",
      "\u001b[1;31mNameError\u001b[0m: name 'categorical_columns' is not defined"
     ]
    }
   ],
   "source": [
    "categorical_unique_counts = {col: df[col].nunique() for col in categorical_columns}\n",
    "print(categorical_unique_counts)"
   ]
  },
  {
   "cell_type": "markdown",
   "id": "2f4aa8db-7903-4cc7-9e93-72f2332a6805",
   "metadata": {},
   "source": [
    "# Exercise 12"
   ]
  },
  {
   "cell_type": "markdown",
   "id": "7e822b6e-46ac-430d-9538-83748a80b361",
   "metadata": {},
   "source": [
    "Compute the correlation matrix of continuous variables"
   ]
  },
  {
   "cell_type": "code",
   "execution_count": 16,
   "id": "6ff0dd89-cc89-4f6d-a15a-443a000ec2d9",
   "metadata": {},
   "outputs": [
    {
     "ename": "NameError",
     "evalue": "name 'continuous_columns' is not defined",
     "output_type": "error",
     "traceback": [
      "\u001b[1;31m---------------------------------------------------------------------------\u001b[0m",
      "\u001b[1;31mNameError\u001b[0m                                 Traceback (most recent call last)",
      "\u001b[1;32m<ipython-input-16-b9395b111f29>\u001b[0m in \u001b[0;36m<module>\u001b[1;34m\u001b[0m\n\u001b[1;32m----> 1\u001b[1;33m \u001b[0mprint\u001b[0m\u001b[1;33m(\u001b[0m\u001b[0mdf\u001b[0m\u001b[1;33m[\u001b[0m\u001b[0mcontinuous_columns\u001b[0m\u001b[1;33m]\u001b[0m\u001b[1;33m.\u001b[0m\u001b[0mcorr\u001b[0m\u001b[1;33m(\u001b[0m\u001b[1;33m)\u001b[0m\u001b[1;33m)\u001b[0m\u001b[1;33m\u001b[0m\u001b[1;33m\u001b[0m\u001b[0m\n\u001b[0m",
      "\u001b[1;31mNameError\u001b[0m: name 'continuous_columns' is not defined"
     ]
    }
   ],
   "source": [
    "print(df[continuous_columns].corr())"
   ]
  },
  {
   "cell_type": "code",
   "execution_count": null,
   "id": "218cf7ba-6617-4e4d-a38b-a9daa057f247",
   "metadata": {},
   "outputs": [],
   "source": []
  }
 ],
 "metadata": {
  "kernelspec": {
   "display_name": "Python 3",
   "language": "python",
   "name": "python3"
  },
  "language_info": {
   "codemirror_mode": {
    "name": "ipython",
    "version": 3
   },
   "file_extension": ".py",
   "mimetype": "text/x-python",
   "name": "python",
   "nbconvert_exporter": "python",
   "pygments_lexer": "ipython3",
   "version": "3.8.8"
  }
 },
 "nbformat": 4,
 "nbformat_minor": 5
}
