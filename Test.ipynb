{
 "cells": [
  {
   "cell_type": "code",
   "execution_count": null,
   "id": "d6e80bb5-35c1-4fd1-99ad-3bc39586253d",
   "metadata": {},
   "outputs": [],
   "source": [
    "###Personal details"
   ]
  },
  {
   "cell_type": "code",
   "execution_count": 8,
   "id": "36f37f84-65b1-44d1-904a-e41f2c5c8797",
   "metadata": {},
   "outputs": [],
   "source": [
    "Vic={\"Full Name\":\"Victor Oyula\",\n",
    "    \"Age\":37,\n",
    "    \"Country\": \"Kenya\",\n",
    "    \"City\": \"Nairobi\"}"
   ]
  },
  {
   "cell_type": "code",
   "execution_count": 9,
   "id": "e23fcda7-2be2-4ddb-8697-e128409caa74",
   "metadata": {},
   "outputs": [
    {
     "data": {
      "text/plain": [
       "'Victor Oyula'"
      ]
     },
     "execution_count": 9,
     "metadata": {},
     "output_type": "execute_result"
    }
   ],
   "source": [
    "Vic[\"Full Name\"]"
   ]
  },
  {
   "cell_type": "code",
   "execution_count": null,
   "id": "b3be1003-0d14-4daa-84b1-7db7d94c7c28",
   "metadata": {},
   "outputs": [],
   "source": []
  }
 ],
 "metadata": {
  "kernelspec": {
   "display_name": "Python 3 (ipykernel)",
   "language": "python",
   "name": "python3"
  },
  "language_info": {
   "codemirror_mode": {
    "name": "ipython",
    "version": 3
   },
   "file_extension": ".py",
   "mimetype": "text/x-python",
   "name": "python",
   "nbconvert_exporter": "python",
   "pygments_lexer": "ipython3",
   "version": "3.13.2"
  }
 },
 "nbformat": 4,
 "nbformat_minor": 5
}
